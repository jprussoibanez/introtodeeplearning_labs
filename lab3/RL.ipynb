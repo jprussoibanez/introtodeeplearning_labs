{
  "nbformat": 4,
  "nbformat_minor": 0,
  "metadata": {
    "colab": {
      "name": "RL.ipynb",
      "provenance": [],
      "collapsed_sections": [
        "jrI6q7RmWQam"
      ],
      "include_colab_link": true
    },
    "kernelspec": {
      "name": "python3",
      "display_name": "Python 3"
    },
    "accelerator": "GPU"
  },
  "cells": [
    {
      "cell_type": "markdown",
      "metadata": {
        "id": "view-in-github",
        "colab_type": "text"
      },
      "source": [
        "<a href=\"https://colab.research.google.com/github/jprussoibanez/introtodeeplearning_labs/blob/lab3/lab3/RL.ipynb\" target=\"_parent\"><img src=\"https://colab.research.google.com/assets/colab-badge.svg\" alt=\"Open In Colab\"/></a>"
      ]
    },
    {
      "cell_type": "markdown",
      "metadata": {
        "id": "WoXYKhfZMHiw",
        "colab_type": "text"
      },
      "source": [
        "# Laboratory 3: Reinforcement Learning\n",
        "\n",
        "Reinforcement learning (RL) is a subset of machine learning which poses learning problems as interactions between agents and environments. It often assumes agents have no prior knowledge of a world, so they must learn to navigate environments by optimizing a reward function. Within an environment, an agent can take certain actions and receive feedback, in the form of positive or negative rewards, with respect to their decision. As such, an agent's feedback loop is somewhat akin to the idea of \"trial and error\", or the manner in which a child might learn to distinguish between \"good\" and \"bad\" actions.\n",
        "\n",
        "In practical terms, our RL agent will interact with the environment by taking an action at each timestep, receiving a corresponding reward, and updating its state according to what it has \"learned\".  \n",
        "\n",
        "![alt text](https://www.kdnuggets.com/images/reinforcement-learning-fig1-700.jpg)\n",
        "\n",
        "While the ultimate goal of reinforcement learning is to teach agents to act in the real, physical world, games provide a convenient proving ground for developing RL algorithms and agents. Games have some properties that make them particularly well suited for RL: \n",
        "\n",
        "1.   In many cases, games have perfectly describable environments. For example, all rules of chess can be formally written and programmed into a chess game simulator;\n",
        "2.   Games are massively parallelizable. Since they do not require running in the real world, simultaneous environments can be run on large data clusters; \n",
        "3.   Simpler scenarios in games enable fast prototyping. This speeds up the development of algorithms that could eventually run in the real-world; and\n",
        "4.   ... Games are fun! \n",
        "\n",
        "In previous labs, we have explored both supervised (with LSTMs, CNNs) and unsupervised / semi-supervised (with VAEs) learning tasks. Reinforcement learning is fundamentally different, in that we are training a deep learning algorithm to govern the actions of our RL agent, that is trying, within its environment, to find the optimal way to achieve a goal. The goal of training an RL agent is to determine the best next step to take to earn the greatest final payoff or return. In this lab, we focus on building a reinforcement learning algorithm to master two different environments with varying complexity. \n",
        "\n",
        "1.   **Cartpole**:   Balance a pole, protruding from a cart, in an upright position by only moving the base left or right. Environment with a low-dimensional observation space.\n",
        "2.   [**Pong**](https://en.wikipedia.org/wiki/Pong): Beat your competitors (whether other AI or humans!) at the game of Pong. Environment with a high-dimensional observation space -- learning directly from raw pixels.\n",
        "\n",
        "Let's get started! First we'll import TensorFlow, the course package, and some dependencies.\n"
      ]
    },
    {
      "cell_type": "code",
      "metadata": {
        "id": "EvdePP-VyVWp",
        "colab_type": "code",
        "outputId": "41a62cc1-a398-4150-c6a4-f98e131422e2",
        "colab": {
          "base_uri": "https://localhost:8080/",
          "height": 187
        }
      },
      "source": [
        "!apt-get install -y xvfb python-opengl x11-utils > /dev/null 2>&1\n",
        "!pip install gym pyvirtualdisplay scikit-video > /dev/null 2>&1\n",
        "\n",
        "%tensorflow_version 2.x\n",
        "import tensorflow as tf\n",
        "\n",
        "import numpy as np\n",
        "import base64, io, time, gym\n",
        "import IPython, functools\n",
        "import matplotlib.pyplot as plt\n",
        "from tqdm import tqdm\n",
        "\n",
        "!pip install mitdeeplearning\n",
        "import mitdeeplearning as mdl"
      ],
      "execution_count": 15,
      "outputs": [
        {
          "output_type": "stream",
          "text": [
            "Requirement already satisfied: mitdeeplearning in /usr/local/lib/python3.6/dist-packages (0.1.2)\n",
            "Requirement already satisfied: tqdm in /usr/local/lib/python3.6/dist-packages (from mitdeeplearning) (4.28.1)\n",
            "Requirement already satisfied: numpy in /tensorflow-2.1.0/python3.6 (from mitdeeplearning) (1.18.1)\n",
            "Requirement already satisfied: gym in /usr/local/lib/python3.6/dist-packages (from mitdeeplearning) (0.15.6)\n",
            "Requirement already satisfied: regex in /usr/local/lib/python3.6/dist-packages (from mitdeeplearning) (2019.12.20)\n",
            "Requirement already satisfied: cloudpickle~=1.2.0 in /usr/local/lib/python3.6/dist-packages (from gym->mitdeeplearning) (1.2.2)\n",
            "Requirement already satisfied: pyglet<=1.5.0,>=1.4.0 in /usr/local/lib/python3.6/dist-packages (from gym->mitdeeplearning) (1.4.10)\n",
            "Requirement already satisfied: scipy in /tensorflow-2.1.0/python3.6 (from gym->mitdeeplearning) (1.4.1)\n",
            "Requirement already satisfied: six in /tensorflow-2.1.0/python3.6 (from gym->mitdeeplearning) (1.14.0)\n",
            "Requirement already satisfied: future in /usr/local/lib/python3.6/dist-packages (from pyglet<=1.5.0,>=1.4.0->gym->mitdeeplearning) (0.16.0)\n"
          ],
          "name": "stdout"
        }
      ]
    },
    {
      "cell_type": "markdown",
      "metadata": {
        "id": "zmrHSiXKTXTY",
        "colab_type": "text"
      },
      "source": [
        "Before we dive in, let's take a step back and outline our approach, which is generally applicable to reinforcement learning problems in general:\n",
        "\n",
        "1. **Initialize our environment and our agent**: here we will describe the different observations and actions the agent can make in the environemnt.\n",
        "2. **Define our agent's memory**: this will enable the agent to remember its past actions, observations, and rewards.\n",
        "3. **Define a reward function**: describes the reward associated with an action or sequence of actions.\n",
        "4. **Define the learning algorithm**: this will be used to reinforce the agent's good behaviors and discourage bad behaviors.\n"
      ]
    },
    {
      "cell_type": "markdown",
      "metadata": {
        "id": "UT7YL8KBJIIc",
        "colab_type": "text"
      },
      "source": [
        "# Part 1: Cartpole\n",
        "\n",
        "## 3.1 Define the Cartpole environment and agent\n",
        "\n",
        "### Environment \n",
        "\n",
        "In order to model the environment for both the Cartpole and Pong tasks, we'll be using a toolkit developed by OpenAI called [OpenAI Gym](https://gym.openai.com/). It provides several pre-defined environments for training and testing reinforcement learning agents, including those for classic physics control tasks, Atari video games, and robotic simulations. To access the Cartpole environment, we can use `env = gym.make(\"CartPole-v0\")`, which we gained access to when we imported the `gym` package. We can instantiate different [environments](https://gym.openai.com/envs/#classic_control) by passing the enivronment name to the `make` function.\n",
        "\n",
        "One issue we might experience when developing RL algorithms is that many aspects of the learning process are inherently random: initializing game states, changes in the environment, and the agent's actions. As such, it can be helpful to set a initial \"seed\" for the environment to ensure some level of reproducibility. Much like you might use `numpy.random.seed`, we can call the comparable function in gym, `seed`, with our defined environment to ensure the environment's random variables are initialized the same each time."
      ]
    },
    {
      "cell_type": "code",
      "metadata": {
        "id": "quv9SC0iIYFm",
        "colab_type": "code",
        "outputId": "0a344555-b842-46fa-9dd3-581c5ffb3bf7",
        "colab": {
          "base_uri": "https://localhost:8080/",
          "height": 68
        }
      },
      "source": [
        "### Instantiate the Cartpole environment ###\n",
        "\n",
        "env = gym.make(\"CartPole-v0\")\n",
        "env.seed(1)"
      ],
      "execution_count": 16,
      "outputs": [
        {
          "output_type": "stream",
          "text": [
            "/usr/local/lib/python3.6/dist-packages/gym/logger.py:30: UserWarning: \u001b[33mWARN: Box bound precision lowered by casting to float32\u001b[0m\n",
            "  warnings.warn(colorize('%s: %s'%('WARN', msg % args), 'yellow'))\n"
          ],
          "name": "stderr"
        },
        {
          "output_type": "execute_result",
          "data": {
            "text/plain": [
              "[1]"
            ]
          },
          "metadata": {
            "tags": []
          },
          "execution_count": 16
        }
      ]
    },
    {
      "cell_type": "markdown",
      "metadata": {
        "id": "mhEITUcKK455",
        "colab_type": "text"
      },
      "source": [
        "In Cartpole, a pole is attached by an un-actuated joint to a cart, which moves along a frictionless track. The pole starts upright, and the goal is to prevent it from falling over. The system is controlled by applying a force of +1 or -1 to the cart. A reward of +1 is provided for every timestep that the pole remains upright. The episode ends when the pole is more than 15 degrees from vertical, or the cart moves more than 2.4 units from the center of the track. A visual summary of the cartpole environment is depicted below:\n",
        "\n",
        "<img width=\"400px\" src=\"https://danielpiedrahita.files.wordpress.com/2017/02/cart-pole.png\"></img>\n",
        "\n",
        "Given this setup for the environment and the objective of the game, we can think about: 1) what observations help define the environment's state; 2) what actions the agent can take. \n",
        "\n",
        "First, let's consider the observation space. In this Cartpole environment our observations are:\n",
        "\n",
        "1. Cart position\n",
        "2. Cart velocity\n",
        "3. Pole angle\n",
        "4. Pole rotation rate\n",
        "\n",
        "We can confirm the size of the space by querying the environment's observation space:\n"
      ]
    },
    {
      "cell_type": "code",
      "metadata": {
        "id": "UVJaEcbdIX82",
        "colab_type": "code",
        "outputId": "cd3dbdc1-2885-4799-9adb-26a57f76e776",
        "colab": {
          "base_uri": "https://localhost:8080/",
          "height": 34
        }
      },
      "source": [
        "n_observations = env.observation_space\n",
        "print(\"Environment has observation space =\", n_observations)"
      ],
      "execution_count": 17,
      "outputs": [
        {
          "output_type": "stream",
          "text": [
            "Environment has observation space = Box(4,)\n"
          ],
          "name": "stdout"
        }
      ]
    },
    {
      "cell_type": "markdown",
      "metadata": {
        "id": "ZibGgjrALgPM",
        "colab_type": "text"
      },
      "source": [
        "Second, we consider the action space. At every time step, the agent can move either right or left. Again we can confirm the size of the action space by querying the environment:"
      ]
    },
    {
      "cell_type": "code",
      "metadata": {
        "id": "qc9SIPxBIXrm",
        "colab_type": "code",
        "outputId": "5097aa89-9c03-41ba-d5a2-d954f4c79da9",
        "colab": {
          "base_uri": "https://localhost:8080/",
          "height": 34
        }
      },
      "source": [
        "n_actions = env.action_space.n\n",
        "print(\"Number of possible actions that the agent can choose from =\", n_actions)"
      ],
      "execution_count": 18,
      "outputs": [
        {
          "output_type": "stream",
          "text": [
            "Number of possible actions that the agent can choose from = 2\n"
          ],
          "name": "stdout"
        }
      ]
    },
    {
      "cell_type": "markdown",
      "metadata": {
        "id": "pPfHME8aRKkb",
        "colab_type": "text"
      },
      "source": [
        "### Cartpole agent\n",
        "\n",
        "Now that we have instantiated the environment and understood the dimensionality of the observation and action spaces, we are ready to define our agent. In deep reinforcement learning, a deep neural network defines the agent. This network will take as input an observation of the environment and output the probability of taking each of the possible actions. Since Cartpole is defined by a low-dimensional observation space, a simple feed-forward neural network should work well for our agent. We will define this using the `Sequential` API.\n"
      ]
    },
    {
      "cell_type": "code",
      "metadata": {
        "id": "W-o_XK4oQ4eu",
        "colab_type": "code",
        "colab": {}
      },
      "source": [
        "### Define the Cartpole agent ###\n",
        "\n",
        "# Defines a feed-forward neural network\n",
        "def create_cartpole_model():\n",
        "  model = tf.keras.models.Sequential([\n",
        "      # First Dense layer\n",
        "      tf.keras.layers.Dense(units=32, activation='relu'),\n",
        "\n",
        "      # TODO: Define the last Dense layer, which will provide the network's output.\n",
        "      # Think about the space the agent needs to act in!\n",
        "      tf.keras.layers.Dense(units=n_actions, activation=None)\n",
        "  ])\n",
        "  return model\n",
        "\n",
        "cartpole_model = create_cartpole_model()"
      ],
      "execution_count": 0,
      "outputs": []
    },
    {
      "cell_type": "markdown",
      "metadata": {
        "id": "d5D5NSIYS2IW",
        "colab_type": "text"
      },
      "source": [
        "Now that we have defined the core network architecture, we will define an *action function* that executes a forward pass through the network, given a set of observations, and samples from the output. This sampling from the output probabilities will be used to select the next action for the agent. \n",
        "\n",
        "**Critically, this action function is totally general -- we will use this function for both Cartpole and Pong, and it is applicable to other RL tasks, as well!**"
      ]
    },
    {
      "cell_type": "code",
      "metadata": {
        "id": "E_vVZRr8Q4R_",
        "colab_type": "code",
        "colab": {}
      },
      "source": [
        "### Define the agent's action function ###\n",
        "\n",
        "# Function that takes observations as input, executes a forward pass through model, \n",
        "#   and outputs a sampled action.\n",
        "# Arguments:\n",
        "#   model: the network that defines our agent\n",
        "#   observation: observation which is fed as input to the model\n",
        "# Returns:\n",
        "#   action: choice of agent action\n",
        "def choose_action(model, observation):\n",
        "  # add batch dimension to the observation\n",
        "  observation = np.expand_dims(observation, axis=0)\n",
        "\n",
        "  '''TODO: feed the observations through the model to predict the log probabilities of each possible action.'''\n",
        "  logits = model.predict(observation)\n",
        "  \n",
        "  # pass the log probabilities through a softmax to compute true probabilities\n",
        "  prob_weights = tf.nn.softmax(logits).numpy()\n",
        "  '''TODO: randomly sample from the prob_weights to pick an action.\n",
        "  Hint: carefully consider the dimensionality of the input probabilities (vector) and the output action (scalar)'''\n",
        "  action = np.random.choice(n_actions, size=1, p=prob_weights.flatten())[0]\n",
        "\n",
        "  return action"
      ],
      "execution_count": 0,
      "outputs": []
    },
    {
      "cell_type": "code",
      "metadata": {
        "id": "rvlJOImR8uGE",
        "colab_type": "code",
        "outputId": "43f612e2-fb95-433e-f6c1-41276a7f7a74",
        "colab": {
          "base_uri": "https://localhost:8080/",
          "height": 34
        }
      },
      "source": [
        "observation = env.reset()\n",
        "action = choose_action(cartpole_model, observation)\n",
        "print(\"Random action from first observation: \", action)"
      ],
      "execution_count": 21,
      "outputs": [
        {
          "output_type": "stream",
          "text": [
            "Random action from first observation:  0\n"
          ],
          "name": "stdout"
        }
      ]
    },
    {
      "cell_type": "markdown",
      "metadata": {
        "id": "_tR9uAWcTnkr",
        "colab_type": "text"
      },
      "source": [
        "## 3.2 Define the agent's memory\n",
        "\n",
        "Now that we have instantiated the environment and defined the agent network architecture and action function, we are ready to move on to the next step in our RL workflow:\n",
        "1. **Initialize our environment and our agent**: here we will describe the different observations and actions the agent can make in the environemnt.\n",
        "2. **Define our agent's memory**: this will enable the agent to remember its past actions, observations, and rewards.\n",
        "3. **Define the learning algorithm**: this will be used to reinforce the agent's good behaviors and discourage bad behaviors.\n",
        "\n",
        "In reinforcement learning, training occurs alongside the agent's acting in the environment; an *episode* refers to a sequence of actions that ends in some terminal state, such as the pole falling down or the cart crashing. The agent will need to remember all of its observations and actions, such that once an episode ends, it can learn to \"reinforce\" the good actions and punish the undesirable actions via training. Our first step is to define a simple memory buffer that contains the agent's observations, actions, and received rewards from a given episode. \n",
        "\n",
        "**Once again, note the modularity of this memory buffer -- it can and will be applied to other RL tasks as well!**"
      ]
    },
    {
      "cell_type": "code",
      "metadata": {
        "id": "8MM6JwXVQ4JG",
        "colab_type": "code",
        "colab": {}
      },
      "source": [
        "### Agent Memory ###\n",
        "\n",
        "class Memory:\n",
        "  def __init__(self): \n",
        "      self.clear()\n",
        "\n",
        "  # Resets/restarts the memory buffer\n",
        "  def clear(self): \n",
        "      self.observations = []\n",
        "      self.actions = []\n",
        "      self.rewards = []\n",
        "\n",
        "  # Add observations, actions, rewards to memory\n",
        "  def add_to_memory(self, new_observation, new_action, new_reward): \n",
        "      self.observations.append(new_observation)\n",
        "      self.actions.append(new_action)\n",
        "      self.rewards.append(new_reward)\n",
        "  \n",
        "  def print(self):\n",
        "      print(f'The memory observations {self.observations}')\n",
        "      print(f'The memory actions {self.actions}')\n",
        "      print(f'The memory rewards {self.rewards}')\n",
        "        \n",
        "memory = Memory()"
      ],
      "execution_count": 0,
      "outputs": []
    },
    {
      "cell_type": "code",
      "metadata": {
        "id": "Mv-a5nD4_HZq",
        "colab_type": "code",
        "outputId": "93b5ac38-7298-4ae6-a53f-7b0506f129cf",
        "colab": {
          "base_uri": "https://localhost:8080/",
          "height": 68
        }
      },
      "source": [
        "observation = env.reset()\n",
        "action = choose_action(cartpole_model, observation)\n",
        "next_observation, reward, done, info = env.step(action)\n",
        "memory.add_to_memory(next_observation, action, reward)\n",
        "memory.print()"
      ],
      "execution_count": 23,
      "outputs": [
        {
          "output_type": "stream",
          "text": [
            "The memory observations [array([ 0.02635582,  0.15089482, -0.04301703, -0.30443059])]\n",
            "The memory actions [1]\n",
            "The memory rewards [1.0]\n"
          ],
          "name": "stdout"
        }
      ]
    },
    {
      "cell_type": "markdown",
      "metadata": {
        "id": "D4YhtPaUVj5m",
        "colab_type": "text"
      },
      "source": [
        "## 3.3 Reward function\n",
        "\n",
        "We're almost ready to begin the learning algorithm for our agent! The next step is to compute the rewards of our agent as it acts in the environment. Since we (and the agent) is uncertain about if and when the game or task will end (i.e., when the pole will fall), it is useful to emphasize getting rewards **now** rather than later in the future -- this is the idea of discounting. This is a similar concept to discounting money in the case of interest. ecall from lecture, we use reward discount to give more preference at getting rewards now rather than later in the future. The idea of discounting rewards is similar to discounting money in the case of interest.\n",
        "\n",
        "To compute the expected cumulative reward, known as the **return**, at a given timestep in a learning episode, we sum the discounted rewards expected at that time step $t$, within a learning episode, and projecting into the future. We define the return (cumulative reward) at a time step $t$, $R_{t}$ as:\n",
        "\n",
        ">$R_{t}=\\sum_{k=0}^\\infty\\gamma^kr_{t+k}$\n",
        "\n",
        "where  $0 < \\gamma < 1$ is the discount factor and $r_{t}$ is the reward at time step $t$, and the index $k$ increments projection into the future within a single learning episode. Intuitively, you can think of this function as depreciating any rewards received at later time steps, which will force the agent prioritize getting rewards now. Since we can't extend episodes to infinity, in practice the computation will be limited to the number of timesteps in an episode -- after that the reward is assumed to be zero.\n",
        "\n",
        "Take note of the form of this sum -- we'll have to be clever about how we implement this function. Specifically, we'll need to initialize an array of zeros, with length of the number of time steps, and fill it with the real discounted reward values as we loop through the rewards from the episode, which will have been saved in the agents memory. What we ultimately care about is which actions are better relative to other actions taken in that episode -- so, we'll normalize our computed rewards, using the mean and standard deviation of the rewards across the learning episode.\n"
      ]
    },
    {
      "cell_type": "code",
      "metadata": {
        "id": "5_Q2OFYtQ32X",
        "colab_type": "code",
        "colab": {}
      },
      "source": [
        "### Reward function ###\n",
        "\n",
        "# Helper function that normalizes an np.array x\n",
        "def normalize(x):\n",
        "  x -= np.mean(x)\n",
        "  x /= np.std(x)\n",
        "  return x.astype(np.float32)\n",
        "\n",
        "# Compute normalized, discounted, cumulative rewards (i.e., return)\n",
        "# Arguments:\n",
        "#   rewards: reward at timesteps in episode\n",
        "#   gamma: discounting factor\n",
        "# Returns:\n",
        "#   normalized discounted reward\n",
        "def discount_rewards(rewards, gamma=0.95): \n",
        "  discounted_rewards = np.zeros_like(rewards)\n",
        "  R = 0\n",
        "  for t in reversed(range(0, len(rewards))):\n",
        "      # update the total discounted reward\n",
        "      R = R * gamma + rewards[t]\n",
        "      discounted_rewards[t] = R\n",
        "\n",
        "  return normalize(discounted_rewards)"
      ],
      "execution_count": 0,
      "outputs": []
    },
    {
      "cell_type": "code",
      "metadata": {
        "id": "g4Mi9-9LKZ1f",
        "colab_type": "code",
        "outputId": "b117b0af-bcbe-4252-8ae3-61ba35f11dcf",
        "colab": {
          "base_uri": "https://localhost:8080/",
          "height": 139
        }
      },
      "source": [
        "observation = env.reset()\n",
        "memory.clear()\n",
        "for i in range(10):\n",
        "  action = choose_action(cartpole_model, observation)\n",
        "  next_observation, reward, done, info = env.step(action)\n",
        "  memory.add_to_memory(next_observation, action, reward)\n",
        "\n",
        "memory.print()\n",
        "\n",
        "discounted_rewards = discount_rewards(memory.rewards)\n",
        "print(\"Rewards: \", memory.rewards)\n",
        "print(\"Discounted rewards: \", discounted_rewards)"
      ],
      "execution_count": 25,
      "outputs": [
        {
          "output_type": "stream",
          "text": [
            "The memory observations [array([ 0.01877362,  0.19048588,  0.04075166, -0.25220616]), array([ 0.02258334, -0.00519357,  0.03570754,  0.05304699]), array([ 0.02247947,  0.18939867,  0.03676848, -0.22815952]), array([ 0.02626744, -0.00622891,  0.03220528,  0.07589102]), array([ 0.02614286,  0.1884169 ,  0.03372311, -0.20645959]), array([ 0.0299112 ,  0.38304079,  0.02959391, -0.48831673]), array([ 0.03757202,  0.18751408,  0.01982758, -0.18645574]), array([ 0.0413223 , -0.00788586,  0.01609846,  0.11241549]), array([ 0.04116458, -0.20323475,  0.01834677,  0.41013359]), array([ 0.03709989, -0.39861193,  0.02654945,  0.7085437 ])]\n",
            "The memory actions [1, 0, 1, 0, 1, 1, 0, 0, 0, 0]\n",
            "The memory rewards [1.0, 1.0, 1.0, 1.0, 1.0, 1.0, 1.0, 1.0, 1.0, 1.0]\n",
            "Rewards:  [1.0, 1.0, 1.0, 1.0, 1.0, 1.0, 1.0, 1.0, 1.0, 1.0]\n",
            "Discounted rewards:  [ 1.4604452   1.1792438   0.88324225  0.5716617   0.24368219 -0.10155941\n",
            " -0.46497163 -0.8475108  -1.2501836  -1.6740497 ]\n"
          ],
          "name": "stdout"
        }
      ]
    },
    {
      "cell_type": "markdown",
      "metadata": {
        "id": "QzbY-mjGYcmt",
        "colab_type": "text"
      },
      "source": [
        "## 3.4 Learning algorithm\n",
        "\n",
        "Now we can start to define the learing algorithm which will be used to reinforce good behaviors of the agent and discourage bad behaviours. In this lab, we will focus on *policy gradient* methods which aim to **maximize** the likelihood of actions that result in large rewards. Equivalently, this means that we want to **minimize** the negative likelihood of these same actions. We achieve this by simply **scaling** the probabilities by their associated rewards -- effectively amplifying the likelihood of actions that resujlt in large rewards.\n",
        "\n",
        "Since the log function is monotonically increasing, this means that minimizing **negative likelihood** is equivalent to minimizing **negative log-likelihood**.  Recall that we can easily compute the negative log-likelihood of a discrete action by evaluting its [softmax cross entropy](https://www.tensorflow.org/api_docs/python/tf/nn/sparse_softmax_cross_entropy_with_logits). Like in supervised learning, we can use stochastic gradient descent methods to achieve the desired minimization. \n",
        "\n",
        "Let's begin by defining the loss function."
      ]
    },
    {
      "cell_type": "code",
      "metadata": {
        "id": "fsgZ3IDCY_Zn",
        "colab_type": "code",
        "colab": {}
      },
      "source": [
        "### Loss function ###\n",
        "\n",
        "# Arguments:\n",
        "#   logits: network's predictions for actions to take\n",
        "#   actions: the actions the agent took in an episode\n",
        "#   rewards: the rewards the agent received in an episode\n",
        "# Returns:\n",
        "#   loss\n",
        "def compute_loss(logits, actions, rewards): \n",
        "  '''TODO: complete the function call to compute the negative log probabilities'''\n",
        "  neg_logprob = tf.nn.sparse_softmax_cross_entropy_with_logits(logits=logits, labels=actions)\n",
        "  \n",
        "  '''TODO: scale the negative log probability by the rewards'''\n",
        "  loss = tf.reduce_mean(neg_logprob * rewards)\n",
        "  return loss"
      ],
      "execution_count": 0,
      "outputs": []
    },
    {
      "cell_type": "code",
      "metadata": {
        "id": "5xPfk_BQMlNh",
        "colab_type": "code",
        "outputId": "67befd14-4d0a-42c6-9439-d6755de47bff",
        "colab": {
          "base_uri": "https://localhost:8080/",
          "height": 275
        }
      },
      "source": [
        "observation = env.reset()\n",
        "memory.clear()\n",
        "for i in range(10):\n",
        "  action = choose_action(cartpole_model, observation)\n",
        "  next_observation, reward, done, info = env.step(action)\n",
        "  memory.add_to_memory(next_observation, action, reward)\n",
        "\n",
        "memory.print()\n",
        "logits = cartpole_model.predict(np.asarray(memory.observations))\n",
        "print(\"Logits: \", logits)\n",
        "loss = compute_loss(logits, memory.actions, memory.rewards)\n",
        "print(\"Tensor loss:\", loss)"
      ],
      "execution_count": 27,
      "outputs": [
        {
          "output_type": "stream",
          "text": [
            "The memory observations [array([-0.03387007, -0.2427815 ,  0.03877906,  0.29609456]), array([-0.0387257 , -0.43843421,  0.04470095,  0.60075116]), array([-0.04749438, -0.24396516,  0.05671597,  0.32247668]), array([-0.05237369, -0.43984696,  0.0631655 ,  0.63249248]), array([-0.06117062, -0.24566046,  0.07581535,  0.36035195]), array([-0.06608383, -0.05169348,  0.08302239,  0.09250563]), array([-0.0671177 , -0.24790121,  0.0848725 ,  0.41018405]), array([-0.07207573, -0.05407862,  0.09307619,  0.14541923]), array([-0.0731573 , -0.25040171,  0.09598457,  0.46595412]), array([-0.07816533, -0.44673953,  0.10530365,  0.78728139])]\n",
            "The memory actions [0, 0, 1, 0, 1, 1, 0, 1, 0, 0]\n",
            "The memory rewards [1.0, 1.0, 1.0, 1.0, 1.0, 1.0, 1.0, 1.0, 1.0, 1.0]\n",
            "Logits:  [[-0.05223529 -0.00836103]\n",
            " [-0.11480041 -0.00259016]\n",
            " [-0.05376846 -0.01268838]\n",
            " [-0.11739015 -0.00680276]\n",
            " [-0.05796053 -0.01632965]\n",
            " [ 0.00488008 -0.02969304]\n",
            " [-0.06932782 -0.01331915]\n",
            " [-0.00874851 -0.02529272]\n",
            " [-0.08041281 -0.01231537]\n",
            " [-0.13874228 -0.00898984]]\n",
            "Tensor loss: tf.Tensor(0.7182967, shape=(), dtype=float32)\n"
          ],
          "name": "stdout"
        }
      ]
    },
    {
      "cell_type": "markdown",
      "metadata": {
        "id": "Rr5vQ9fqbPpp",
        "colab_type": "text"
      },
      "source": [
        "Now let's use the loss function to define a training step of our learning algorithm:"
      ]
    },
    {
      "cell_type": "code",
      "metadata": {
        "id": "_50ada7nbZ7L",
        "colab_type": "code",
        "colab": {}
      },
      "source": [
        "### Training step (forward and backpropagation) ###\n",
        "\n",
        "def train_step(model, optimizer, observations, actions, discounted_rewards):\n",
        "  with tf.GradientTape() as tape:\n",
        "      # Forward propagate through the agent network\n",
        "      logits = model(observations)\n",
        "\n",
        "      '''TODO: call the compute_loss function to compute the loss'''\n",
        "      loss = compute_loss(logits, actions, discounted_rewards)\n",
        "\n",
        "  '''TODO: run backpropagation to minimize the loss using the tape.gradient method.\n",
        "      Use `model.trainable_variables`'''\n",
        "  grads = tape.gradient(loss, model.trainable_variables)\n",
        "  optimizer.apply_gradients(zip(grads, model.trainable_variables))\n"
      ],
      "execution_count": 0,
      "outputs": []
    },
    {
      "cell_type": "code",
      "metadata": {
        "id": "Ljr-R1LGPhNv",
        "colab_type": "code",
        "outputId": "e5ba972f-c35a-499f-fff9-3545eb9ade82",
        "colab": {
          "base_uri": "https://localhost:8080/",
          "height": 190
        }
      },
      "source": [
        "learning_rate = 1e-3\n",
        "optimizer = tf.keras.optimizers.Adam(learning_rate)\n",
        "\n",
        "observation = env.reset()\n",
        "memory.clear()\n",
        "for i in range(10):\n",
        "  action = choose_action(cartpole_model, observation)\n",
        "  next_observation, reward, done, info = env.step(action)\n",
        "  memory.add_to_memory(next_observation, action, reward)\n",
        "\n",
        "memory.print()\n",
        "train_step(cartpole_model, optimizer, np.asarray(memory.observations), np.asarray(memory.actions), discount_rewards(memory.rewards))\n"
      ],
      "execution_count": 29,
      "outputs": [
        {
          "output_type": "stream",
          "text": [
            "The memory observations [array([-0.00283339,  0.1955087 ,  0.03303272, -0.24966293]), array([ 1.07678605e-03, -6.90285825e-05,  2.80394588e-02,  5.32534758e-02]), array([ 0.00107541, -0.19558157,  0.02910453,  0.35464954]), array([-0.00283623, -0.00088528,  0.03619752,  0.0712843 ]), array([-0.00285393, -0.19650698,  0.03762321,  0.37516438]), array([-0.00678407, -0.00193907,  0.04512649,  0.09457766]), array([-0.00682285,  0.19250802,  0.04701805, -0.18353336]), array([-0.00297269, -0.00325406,  0.04334738,  0.12360346]), array([-0.00303777,  0.19122093,  0.04581945, -0.15509487]), array([ 0.00078665, -0.00452609,  0.04271755,  0.15168371])]\n",
            "The memory actions [1, 0, 0, 1, 0, 1, 1, 0, 1, 0]\n",
            "The memory rewards [1.0, 1.0, 1.0, 1.0, 1.0, 1.0, 1.0, 1.0, 1.0, 1.0]\n",
            "WARNING:tensorflow:Layer dense_2 is casting an input tensor from dtype float64 to the layer's dtype of float32, which is new behavior in TensorFlow 2.  The layer has dtype float32 because it's dtype defaults to floatx.\n",
            "\n",
            "If you intended to run this layer in float32, you can safely ignore this warning. If in doubt, this warning is likely only an issue if you are porting a TensorFlow 1.X model to TensorFlow 2.\n",
            "\n",
            "To change all layers to have dtype float64 by default, call `tf.keras.backend.set_floatx('float64')`. To change just this layer, pass dtype='float64' to the layer constructor. If you are the author of this layer, you can disable autocasting by passing autocast=False to the base Layer constructor.\n",
            "\n"
          ],
          "name": "stdout"
        }
      ]
    },
    {
      "cell_type": "markdown",
      "metadata": {
        "id": "XsjKXh6BcgjR",
        "colab_type": "text"
      },
      "source": [
        "## 3.5 Run cartpole!\n",
        "\n",
        "Having had no prior knowledge of the environment, the agent will begin to learn how to balance the pole on the cart based only on the feedback received from the environment! Having defined how our agent can move, how it takes in new observations, and how it updates its state, we'll see how it gradually learns a policy of actions to optimize balancing the pole as long as possible. To do this, we'll track how the rewards evolve as a function of training -- how should the rewards change as training progresses?"
      ]
    },
    {
      "cell_type": "code",
      "metadata": {
        "id": "XmOzc2rrcn8Q",
        "colab_type": "code",
        "colab": {
          "base_uri": "https://localhost:8080/",
          "height": 541
        },
        "outputId": "c4c20356-8baa-4e66-86a5-624e96e5a237"
      },
      "source": [
        "### Cartpole training! ###\n",
        "\n",
        "# Learning rate and optimizer\n",
        "learning_rate = 1e-3\n",
        "optimizer = tf.keras.optimizers.Adam(learning_rate)\n",
        "\n",
        "# instantiate cartpole agent\n",
        "cartpole_model = create_cartpole_model()\n",
        "\n",
        "# to track our progress\n",
        "smoothed_reward = mdl.util.LossHistory(smoothing_factor=0.9)\n",
        "plotter = mdl.util.PeriodicPlotter(sec=2, xlabel='Iterations', ylabel='Rewards')\n",
        "\n",
        "if hasattr(tqdm, '_instances'): tqdm._instances.clear() # clear if it exists\n",
        "for i_episode in range(500):\n",
        "\n",
        "  plotter.plot(smoothed_reward.get())\n",
        "\n",
        "  # Restart the environment\n",
        "  observation = env.reset()\n",
        "  memory.clear()\n",
        "\n",
        "  while True:\n",
        "      # using our observation, choose an action and take it in the environment\n",
        "      action = choose_action(cartpole_model, observation)\n",
        "      next_observation, reward, done, info = env.step(action)\n",
        "      # add to memory\n",
        "      memory.add_to_memory(observation, action, reward)\n",
        "      \n",
        "      # is the episode over? did you crash or do so well that you're done?\n",
        "      if done:\n",
        "          # determine total reward and keep a record of this\n",
        "          total_reward = sum(memory.rewards)\n",
        "          smoothed_reward.append(total_reward)\n",
        "          \n",
        "          # initiate training - remember we don't know anything about how the \n",
        "          #   agent is doing until it has crashed!\n",
        "          train_step(cartpole_model, optimizer, \n",
        "                     observations=np.vstack(memory.observations),\n",
        "                     actions=np.array(memory.actions),\n",
        "                     discounted_rewards = discount_rewards(memory.rewards))\n",
        "          \n",
        "          # reset the memory\n",
        "          memory.clear()\n",
        "          break\n",
        "      # update our observatons\n",
        "      observation = next_observation"
      ],
      "execution_count": 30,
      "outputs": [
        {
          "output_type": "display_data",
          "data": {
            "image/png": "[encoded data removed]",
            "text/plain": [
              "<Figure size 432x288 with 1 Axes>"
            ]
          },
          "metadata": {
            "tags": []
          }
        },
        {
          "output_type": "display_data",
          "data": {
            "image/png": "[encoded data removed]",
            "text/plain": [
              "<Figure size 432x288 with 1 Axes>"
            ]
          },
          "metadata": {
            "tags": []
          }
        }
      ]
    },
    {
      "cell_type": "markdown",
      "metadata": {
        "id": "mkcUtGF1VE-K",
        "colab_type": "text"
      },
      "source": [
        "To get a sense of how our agent did, we can save a video of the trained model working on balancing the pole. Realize that this is a brand new environment that the agent has not seen before!\n",
        "\n",
        "Let's display the saved video to watch how our agent did!\n"
      ]
    },
    {
      "cell_type": "code",
      "metadata": {
        "id": "PAYBkv6Zbk0J",
        "colab_type": "code",
        "colab": {
          "base_uri": "https://localhost:8080/",
          "height": 472
        },
        "outputId": "d369b702-503c-42c2-fd9a-b22747131b33"
      },
      "source": [
        "saved_cartpole = mdl.lab3.save_video_of_model(cartpole_model, \"CartPole-v0\")\n",
        "mdl.lab3.play_video(saved_cartpole)"
      ],
      "execution_count": 31,
      "outputs": [
        {
          "output_type": "stream",
          "text": [
            "/usr/local/lib/python3.6/dist-packages/gym/logger.py:30: UserWarning: \u001b[33mWARN: Box bound precision lowered by casting to float32\u001b[0m\n",
            "  warnings.warn(colorize('%s: %s'%('WARN', msg % args), 'yellow'))\n"
          ],
          "name": "stderr"
        },
        {
          "output_type": "stream",
          "text": [
            "Successfully saved 200 frames into CartPole-v0.mp4!\n"
          ],
          "name": "stdout"
        },
        {
          "output_type": "execute_result",
          "data": {
            "text/html": [
              "\n",
              "        <video controls>\n",
              "            <source src=\"data:video/mp4;base64,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\" type=\"video/mp4\" />\n",
              "        </video>"
            ],
            "text/plain": [
              "<IPython.core.display.HTML object>"
            ]
          },
          "metadata": {
            "tags": []
          },
          "execution_count": 31
        }
      ]
    },
    {
      "cell_type": "markdown",
      "metadata": {
        "id": "CSbVNDpaVb3_",
        "colab_type": "text"
      },
      "source": [
        "How does the agent perform? Could you train it for shorter amounts of time and still perform well? Do you think that training longer would help even more? "
      ]
    },
    {
      "cell_type": "markdown",
      "metadata": {
        "id": "Eu6Mqxc720ST",
        "colab_type": "text"
      },
      "source": [
        "#Part 2: Pong\n",
        "\n",
        "In Cartpole, we dealt with an environment that was static -- in other words, it didn't change over time. What happens if our environment is dynamic and unpredictable? Well that's exactly the case in [Pong](https://en.wikipedia.org/wiki/Pong), since part of the environment is the opposing player. We don't know how our opponent will act or react to our actions, so the complexity of our problem increases. It also becomes much more interesting, since we can compete to beat our opponent. RL provides a powerful framework for training AI systems with the ability to handle and interact with dynamic, unpredictable environments. In this part of the lab, we'll use the tools and workflow we explored in Part 1 to build an RL agent capable of playing the game of Pong.\n"
      ]
    },
    {
      "cell_type": "markdown",
      "metadata": {
        "id": "srZ4YE29isuA",
        "colab_type": "text"
      },
      "source": [
        "## 3.6 Define and inspect the Pong environment\n",
        "\n",
        "As with Cartpole, we'll instantiate the Pong environment in the OpenAI gym, using a seed of 1."
      ]
    },
    {
      "cell_type": "code",
      "metadata": {
        "id": "lbYHLr66i15n",
        "colab_type": "code",
        "colab": {}
      },
      "source": [
        "env = gym.make(\"Pong-v0\", frameskip=5)\n",
        "env.seed(1); # for reproducibility"
      ],
      "execution_count": 0,
      "outputs": []
    },
    {
      "cell_type": "markdown",
      "metadata": {
        "id": "52uZ2Xhyi-MW",
        "colab_type": "text"
      },
      "source": [
        "Let's next consider the observation space for the Pong environment. Instead of four physical descriptors of the cart-pole setup, in the case of Pong our observations are the individual video frames (i.e., images) that depict the state of the board. Thus, the observations are 210x160 RGB images (arrays of shape (210,160,3)).\n",
        "\n",
        "We can again confirm the size of the observation space by query:"
      ]
    },
    {
      "cell_type": "code",
      "metadata": {
        "id": "0yX4GWvxjnHS",
        "colab_type": "code",
        "colab": {
          "base_uri": "https://localhost:8080/",
          "height": 34
        },
        "outputId": "bcec8bbf-6f48-438e-c8e0-37e9d3d14127"
      },
      "source": [
        "print(\"Environment has observation space =\", env.observation_space)"
      ],
      "execution_count": 33,
      "outputs": [
        {
          "output_type": "stream",
          "text": [
            "Environment has observation space = Box(210, 160, 3)\n"
          ],
          "name": "stdout"
        }
      ]
    },
    {
      "cell_type": "markdown",
      "metadata": {
        "id": "uuEC2TdSjx9D",
        "colab_type": "text"
      },
      "source": [
        "In Pong, at every time step, the agent (which controls the paddle) has six actions to choose from: no-op (no operation), move right, move left, fire, fire right, and fire left. Let's confirm the size of the action space by querying the environment:"
      ]
    },
    {
      "cell_type": "code",
      "metadata": {
        "id": "Iuy9oPc1kag3",
        "colab_type": "code",
        "colab": {
          "base_uri": "https://localhost:8080/",
          "height": 34
        },
        "outputId": "0988db34-fa5d-4329-dbe7-d3b05974e237"
      },
      "source": [
        "n_actions = env.action_space.n\n",
        "print(\"Number of possible actions that the agent can choose from =\", n_actions)"
      ],
      "execution_count": 34,
      "outputs": [
        {
          "output_type": "stream",
          "text": [
            "Number of possible actions that the agent can choose from = 6\n"
          ],
          "name": "stdout"
        }
      ]
    },
    {
      "cell_type": "markdown",
      "metadata": {
        "id": "9-fghDRigUE5",
        "colab_type": "text"
      },
      "source": [
        "## 3.7 Define the Pong agent\n",
        "\n",
        "As before, we'll use a neural network to define our agent. What network architecture do you think would be especially well suited to this game? Since our observations are now in the form of images, we'll add convolutional layers to the network to increase the learning capacity of our network."
      ]
    },
    {
      "cell_type": "code",
      "metadata": {
        "id": "IJiqbFYpgYRH",
        "colab_type": "code",
        "colab": {}
      },
      "source": [
        "### Define the Pong agent ###\n",
        "\n",
        "# Functionally define layers for convenience\n",
        "# All convolutional layers will have ReLu activation\n",
        "Conv2D = functools.partial(tf.keras.layers.Conv2D, padding='same', activation='relu')\n",
        "Flatten = tf.keras.layers.Flatten\n",
        "Dense = tf.keras.layers.Dense\n",
        "\n",
        "# Defines a CNN for the Pong agent\n",
        "def create_pong_model():\n",
        "  model = tf.keras.models.Sequential([\n",
        "    # Convolutional layers\n",
        "    # First, 16 7x7 filters with 4x4 stride\n",
        "    Conv2D(filters=16, kernel_size=7, strides=4),\n",
        "\n",
        "    # TODO: define convolutional layers with 32 5x5 filters and 2x2 stride\n",
        "    Conv2D(filters=32, kernel_size=5, strides=2),\n",
        "\n",
        "    # TODO: define convolutional layers with 48 3x3 filters and 2x2 stride\n",
        "    Conv2D(filters=48, kernel_size=3, strides=2),\n",
        "\n",
        "    Flatten(),\n",
        "    \n",
        "    # Fully connected layer and output\n",
        "    Dense(units=64, activation='relu'),\n",
        "    # TODO: define the output dimension of the last Dense layer. \n",
        "    # Pay attention to the space the agent needs to act in\n",
        "    Dense(units=n_actions, activation=None)\n",
        "  \n",
        "  ])\n",
        "  return model\n",
        "\n",
        "pong_model = create_pong_model()"
      ],
      "execution_count": 0,
      "outputs": []
    },
    {
      "cell_type": "markdown",
      "metadata": {
        "id": "yaeZ067olFiJ",
        "colab_type": "text"
      },
      "source": [
        "Since we've already defined the action function, `choose_action(model, observation)`, we don't need to define it again. Instead, we'll be able to reuse it later on by passing in our new model we've just created, `pong_model`. This is awesome because our action function provides a modular and generalizable method for all sorts of RL agents!"
      ]
    },
    {
      "cell_type": "markdown",
      "metadata": {
        "id": "l0RvqOVkmc2r",
        "colab_type": "text"
      },
      "source": [
        "## 3.8 Pong-specific functions\n",
        "\n",
        "In Part 1 (Cartpole), we implemented some key functions and classes to build and train our RL agent -- `choose_action(model, observation)` and the `Memory` class, for example. However, in getting ready to apply these to a new game like Pong, we might need to make some slight modifications. \n",
        "\n",
        "Namely, we need to think about what happens when a game ends. In Pong, we know a game has ended if the reward is +1 (we won!) or -1 (we lost unfortunately). Otherwise, we expect the reward at a timestep to be zero -- the players (or agents) are just playing eachother. So, after a game ends, we will need to reset the reward to zero when a game ends. This will result in a modified reward function."
      ]
    },
    {
      "cell_type": "code",
      "metadata": {
        "id": "iEZG2o50luLu",
        "colab_type": "code",
        "colab": {}
      },
      "source": [
        "### Pong reward function ###\n",
        "\n",
        "# Compute normalized, discounted rewards for Pong (i.e., return)\n",
        "# Arguments:\n",
        "#   rewards: reward at timesteps in episode\n",
        "#   gamma: discounting factor. Note increase to 0.99 -- rate of depreciation will be slower.\n",
        "# Returns:\n",
        "#   normalized discounted reward\n",
        "def discount_rewards(rewards, gamma=0.99): \n",
        "  discounted_rewards = np.zeros_like(rewards)\n",
        "  R = 0\n",
        "  for t in reversed(range(0, len(rewards))):\n",
        "      # NEW: Reset the sum if the reward is not 0 (the game has ended!)\n",
        "      if rewards[t] != 0:\n",
        "        R = 0\n",
        "      # update the total discounted reward as before\n",
        "      R = R * gamma + rewards[t]\n",
        "      discounted_rewards[t] = R\n",
        "      \n",
        "  return normalize(discounted_rewards)"
      ],
      "execution_count": 0,
      "outputs": []
    },
    {
      "cell_type": "markdown",
      "metadata": {
        "id": "HopLpb4IoOqA",
        "colab_type": "text"
      },
      "source": [
        "Additionally, we have to consider the nature of the observations in the Pong environment, and how they will be fed into our network. Our observations in this case are images. Before we input an image into our network, we'll do a bit of pre-processing to crop and scale, clean up the background colors to a single color, and set the important game elements to a single color. Let's use this function to visualize what an observation might look like before and after pre-processing."
      ]
    },
    {
      "cell_type": "code",
      "metadata": {
        "id": "no5IIYtFm8pI",
        "colab_type": "code",
        "colab": {}
      },
      "source": [
        "observation = env.reset()\n",
        "for i in range(30):\n",
        "  observation, _,_,_ = env.step(0)\n",
        "observation_pp = mdl.lab3.preprocess_pong(observation)\n",
        "\n",
        "f = plt.figure(figsize=(10,3))\n",
        "ax = f.add_subplot(121)\n",
        "ax2 = f.add_subplot(122)\n",
        "ax.imshow(observation); ax.grid(False);\n",
        "ax2.imshow(np.squeeze(observation_pp)); ax2.grid(False); plt.title('Preprocessed Observation');"
      ],
      "execution_count": 0,
      "outputs": []
    },
    {
      "cell_type": "markdown",
      "metadata": {
        "id": "bYwIWC-Cz8F2",
        "colab_type": "text"
      },
      "source": [
        "What do you notice? How might these changes be important for training our RL algorithm?"
      ]
    },
    {
      "cell_type": "markdown",
      "metadata": {
        "id": "mRqcaDQ1pm3x",
        "colab_type": "text"
      },
      "source": [
        "## 3.9 Training Pong\n",
        "\n",
        "We're now all set up to start training our RL algorithm and agent for the game of Pong! We've already defined our loss function with `compute_loss`, which employs policy gradient learning, as well as our backpropagation step with `train_step` which is beautiful! We will use these functions to execute training the Pong agent. Let's walk through the training block.\n",
        "\n",
        "In Pong, rather than feeding our network one image at a time, it can actually improve performance to input the difference between two consecutive observations, which really gives us information about the movement between frames -- how the game is changing. We'll first pre-process the raw observation, `x`, and then we'll compute the difference with the image frame we saw one timestep before. \n",
        "\n",
        "This observation change will be forward propagated through our Pong agent, the CNN network model, which will then predict the next action to take based on this observation. The raw reward will be computed, and the observation, action, and reward will be recorded into memory. This will continue until a training episode, i.e., a game, ends.\n",
        "\n",
        "Then, we will compute the discounted rewards, and use this information to execute a training step. Memory will be cleared, and we will do it all over again!\n",
        "\n",
        "Let's run the code block to train our Pong agent. Note that completing training will take quite a bit of time (estimated at least a couple of hours). We will again visualize the evolution of the total reward as a function of training to get a sense of how the agent is learning."
      ]
    },
    {
      "cell_type": "code",
      "metadata": {
        "id": "xCwyQQrPnkZG",
        "colab_type": "code",
        "colab": {}
      },
      "source": [
        "### Training Pong ###\n",
        "\n",
        "# Hyperparameters\n",
        "learning_rate=1e-4\n",
        "MAX_ITERS = 10000 # increase the maximum number of episodes, since Pong is more complex!\n",
        "\n",
        "# Model and optimizer\n",
        "pong_model = create_pong_model()\n",
        "optimizer = tf.keras.optimizers.Adam(learning_rate)\n",
        "\n",
        "# plotting\n",
        "smoothed_reward = mdl.util.LossHistory(smoothing_factor=0.9)\n",
        "plotter = mdl.util.PeriodicPlotter(sec=5, xlabel='Iterations', ylabel='Rewards')\n",
        "memory = Memory()\n",
        "\n",
        "for i_episode in range(MAX_ITERS):\n",
        "\n",
        "  plotter.plot(smoothed_reward.get())\n",
        "\n",
        "  # Restart the environment\n",
        "  observation = env.reset()\n",
        "  previous_frame = mdl.lab3.preprocess_pong(observation)\n",
        "\n",
        "  while True:\n",
        "      # Pre-process image \n",
        "      current_frame = mdl.lab3.preprocess_pong(observation)\n",
        "      \n",
        "      '''TODO: determine the observation change\n",
        "      Hint: this is the difference between the past two frames'''\n",
        "      obs_change = # TODO\n",
        "      \n",
        "      '''TODO: choose an action for the pong model, using the frame difference, and evaluate'''\n",
        "      action = # TODO\n",
        "      # Take the chosen action\n",
        "      next_observation, reward, done, info = env.step(action)\n",
        "\n",
        "      '''TODO: save the observed frame difference, the action that was taken, and the resulting reward!'''\n",
        "      memory.add_to_memory('''TODO''', '''TODO''', '''TODO''')\n",
        "      \n",
        "      # is the episode over? did you crash or do so well that you're done?\n",
        "      if done:\n",
        "          # determine total reward and keep a record of this\n",
        "          total_reward = sum(memory.rewards)\n",
        "          smoothed_reward.append( total_reward )\n",
        "\n",
        "          # begin training\n",
        "          train_step(pong_model, \n",
        "                     optimizer, \n",
        "                     observations = np.stack(memory.observations, 0), \n",
        "                     actions = np.array(memory.actions),\n",
        "                     discounted_rewards = discount_rewards(memory.rewards))\n",
        "          \n",
        "          memory.clear()\n",
        "          break\n",
        "\n",
        "      observation = next_observation\n",
        "      previous_frame = current_frame"
      ],
      "execution_count": 0,
      "outputs": []
    },
    {
      "cell_type": "markdown",
      "metadata": {
        "id": "8LiEY5Y_ts-Z",
        "colab_type": "text"
      },
      "source": [
        "Finally we can put our trained agent to the test! It will play in a newly instantiated Pong environment against the \"computer\", a base AI system for Pong. Your agent plays as the green paddle. Let's watch the match instant replay!"
      ]
    },
    {
      "cell_type": "code",
      "metadata": {
        "id": "TvHXbkL0tR6M",
        "colab_type": "code",
        "colab": {}
      },
      "source": [
        "saved_pong = mdl.lab3.save_video_of_model(\n",
        "    pong_model, \"Pong-v0\", obs_diff=True, \n",
        "    pp_fn=mdl.lab3.preprocess_pong)\n",
        "mdl.lab3.play_video(saved_pong)"
      ],
      "execution_count": 0,
      "outputs": []
    },
    {
      "cell_type": "markdown",
      "metadata": {
        "id": "TIlwIgBP3Js6",
        "colab_type": "text"
      },
      "source": [
        "## 3.10 Conclusion\n",
        "\n",
        "That's it! Congratulations on training two RL agents and putting them to the test! We encourage you to consider the following:\n",
        "\n",
        "*   How does the agent perform?\n",
        "*   Could you train it for shorter amounts of time  and still perform well?\n",
        "*   Do you think that training longer would help even more? \n",
        "* How does the complexity of Pong relative to Cartpole alter the rate at which the agent learns and its performance? \n",
        "* What are some things you could change about the agent or the learning process to potentially improve performance?\n",
        "\n",
        "If you want to go further, try to optimize your model to achieve the best performance! **[Email us](mailto:introtodeeplearning-staff@mit.edu) a copy of your notebook with the Pong training executed AND a saved video of your Pong agent competing! We'll give out prizes to the best performers!**"
      ]
    }
  ]
}