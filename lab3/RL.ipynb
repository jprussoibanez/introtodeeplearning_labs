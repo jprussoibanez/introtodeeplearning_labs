{
  "nbformat": 4,
  "nbformat_minor": 0,
  "metadata": {
    "colab": {
      "name": "RL.ipynb",
      "provenance": [],
      "collapsed_sections": [
        "jrI6q7RmWQam"
      ],
      "include_colab_link": true
    },
    "kernelspec": {
      "name": "python3",
      "display_name": "Python 3"
    },
    "accelerator": "GPU"
  },
  "cells": [
    {
      "cell_type": "markdown",
      "metadata": {
        "id": "view-in-github",
        "colab_type": "text"
      },
      "source": [
        "<a href=\"https://colab.research.google.com/github/jprussoibanez/introtodeeplearning_labs/blob/lab3/lab3/RL.ipynb\" target=\"_parent\"><img src=\"https://colab.research.google.com/assets/colab-badge.svg\" alt=\"Open In Colab\"/></a>"
      ]
    },
    {
      "cell_type": "markdown",
      "metadata": {
        "id": "WoXYKhfZMHiw",
        "colab_type": "text"
      },
      "source": [
        "# Laboratory 3: Reinforcement Learning\n",
        "\n",
        "Reinforcement learning (RL) is a subset of machine learning which poses learning problems as interactions between agents and environments. It often assumes agents have no prior knowledge of a world, so they must learn to navigate environments by optimizing a reward function. Within an environment, an agent can take certain actions and receive feedback, in the form of positive or negative rewards, with respect to their decision. As such, an agent's feedback loop is somewhat akin to the idea of \"trial and error\", or the manner in which a child might learn to distinguish between \"good\" and \"bad\" actions.\n",
        "\n",
        "In practical terms, our RL agent will interact with the environment by taking an action at each timestep, receiving a corresponding reward, and updating its state according to what it has \"learned\".  \n",
        "\n",
        "![alt text](https://www.kdnuggets.com/images/reinforcement-learning-fig1-700.jpg)\n",
        "\n",
        "While the ultimate goal of reinforcement learning is to teach agents to act in the real, physical world, games provide a convenient proving ground for developing RL algorithms and agents. Games have some properties that make them particularly well suited for RL: \n",
        "\n",
        "1.   In many cases, games have perfectly describable environments. For example, all rules of chess can be formally written and programmed into a chess game simulator;\n",
        "2.   Games are massively parallelizable. Since they do not require running in the real world, simultaneous environments can be run on large data clusters; \n",
        "3.   Simpler scenarios in games enable fast prototyping. This speeds up the development of algorithms that could eventually run in the real-world; and\n",
        "4.   ... Games are fun! \n",
        "\n",
        "In previous labs, we have explored both supervised (with LSTMs, CNNs) and unsupervised / semi-supervised (with VAEs) learning tasks. Reinforcement learning is fundamentally different, in that we are training a deep learning algorithm to govern the actions of our RL agent, that is trying, within its environment, to find the optimal way to achieve a goal. The goal of training an RL agent is to determine the best next step to take to earn the greatest final payoff or return. In this lab, we focus on building a reinforcement learning algorithm to master two different environments with varying complexity. \n",
        "\n",
        "1.   **Cartpole**:   Balance a pole, protruding from a cart, in an upright position by only moving the base left or right. Environment with a low-dimensional observation space.\n",
        "2.   [**Pong**](https://en.wikipedia.org/wiki/Pong): Beat your competitors (whether other AI or humans!) at the game of Pong. Environment with a high-dimensional observation space -- learning directly from raw pixels.\n",
        "\n",
        "Let's get started! First we'll import TensorFlow, the course package, and some dependencies.\n"
      ]
    },
    {
      "cell_type": "code",
      "metadata": {
        "id": "EvdePP-VyVWp",
        "colab_type": "code",
        "outputId": "41a62cc1-a398-4150-c6a4-f98e131422e2",
        "colab": {
          "base_uri": "https://localhost:8080/",
          "height": 187
        }
      },
      "source": [
        "!apt-get install -y xvfb python-opengl x11-utils > /dev/null 2>&1\n",
        "!pip install gym pyvirtualdisplay scikit-video > /dev/null 2>&1\n",
        "\n",
        "%tensorflow_version 2.x\n",
        "import tensorflow as tf\n",
        "\n",
        "import numpy as np\n",
        "import base64, io, time, gym\n",
        "import IPython, functools\n",
        "import matplotlib.pyplot as plt\n",
        "from tqdm import tqdm\n",
        "\n",
        "!pip install mitdeeplearning\n",
        "import mitdeeplearning as mdl"
      ],
      "execution_count": 15,
      "outputs": [
        {
          "output_type": "stream",
          "text": [
            "Requirement already satisfied: mitdeeplearning in /usr/local/lib/python3.6/dist-packages (0.1.2)\n",
            "Requirement already satisfied: tqdm in /usr/local/lib/python3.6/dist-packages (from mitdeeplearning) (4.28.1)\n",
            "Requirement already satisfied: numpy in /tensorflow-2.1.0/python3.6 (from mitdeeplearning) (1.18.1)\n",
            "Requirement already satisfied: gym in /usr/local/lib/python3.6/dist-packages (from mitdeeplearning) (0.15.6)\n",
            "Requirement already satisfied: regex in /usr/local/lib/python3.6/dist-packages (from mitdeeplearning) (2019.12.20)\n",
            "Requirement already satisfied: cloudpickle~=1.2.0 in /usr/local/lib/python3.6/dist-packages (from gym->mitdeeplearning) (1.2.2)\n",
            "Requirement already satisfied: pyglet<=1.5.0,>=1.4.0 in /usr/local/lib/python3.6/dist-packages (from gym->mitdeeplearning) (1.4.10)\n",
            "Requirement already satisfied: scipy in /tensorflow-2.1.0/python3.6 (from gym->mitdeeplearning) (1.4.1)\n",
            "Requirement already satisfied: six in /tensorflow-2.1.0/python3.6 (from gym->mitdeeplearning) (1.14.0)\n",
            "Requirement already satisfied: future in /usr/local/lib/python3.6/dist-packages (from pyglet<=1.5.0,>=1.4.0->gym->mitdeeplearning) (0.16.0)\n"
          ],
          "name": "stdout"
        }
      ]
    },
    {
      "cell_type": "markdown",
      "metadata": {
        "id": "zmrHSiXKTXTY",
        "colab_type": "text"
      },
      "source": [
        "Before we dive in, let's take a step back and outline our approach, which is generally applicable to reinforcement learning problems in general:\n",
        "\n",
        "1. **Initialize our environment and our agent**: here we will describe the different observations and actions the agent can make in the environemnt.\n",
        "2. **Define our agent's memory**: this will enable the agent to remember its past actions, observations, and rewards.\n",
        "3. **Define a reward function**: describes the reward associated with an action or sequence of actions.\n",
        "4. **Define the learning algorithm**: this will be used to reinforce the agent's good behaviors and discourage bad behaviors.\n"
      ]
    },
    {
      "cell_type": "markdown",
      "metadata": {
        "id": "UT7YL8KBJIIc",
        "colab_type": "text"
      },
      "source": [
        "# Part 1: Cartpole\n",
        "\n",
        "## 3.1 Define the Cartpole environment and agent\n",
        "\n",
        "### Environment \n",
        "\n",
        "In order to model the environment for both the Cartpole and Pong tasks, we'll be using a toolkit developed by OpenAI called [OpenAI Gym](https://gym.openai.com/). It provides several pre-defined environments for training and testing reinforcement learning agents, including those for classic physics control tasks, Atari video games, and robotic simulations. To access the Cartpole environment, we can use `env = gym.make(\"CartPole-v0\")`, which we gained access to when we imported the `gym` package. We can instantiate different [environments](https://gym.openai.com/envs/#classic_control) by passing the enivronment name to the `make` function.\n",
        "\n",
        "One issue we might experience when developing RL algorithms is that many aspects of the learning process are inherently random: initializing game states, changes in the environment, and the agent's actions. As such, it can be helpful to set a initial \"seed\" for the environment to ensure some level of reproducibility. Much like you might use `numpy.random.seed`, we can call the comparable function in gym, `seed`, with our defined environment to ensure the environment's random variables are initialized the same each time."
      ]
    },
    {
      "cell_type": "code",
      "metadata": {
        "id": "quv9SC0iIYFm",
        "colab_type": "code",
        "outputId": "0a344555-b842-46fa-9dd3-581c5ffb3bf7",
        "colab": {
          "base_uri": "https://localhost:8080/",
          "height": 68
        }
      },
      "source": [
        "### Instantiate the Cartpole environment ###\n",
        "\n",
        "env = gym.make(\"CartPole-v0\")\n",
        "env.seed(1)"
      ],
      "execution_count": 16,
      "outputs": [
        {
          "output_type": "stream",
          "text": [
            "/usr/local/lib/python3.6/dist-packages/gym/logger.py:30: UserWarning: \u001b[33mWARN: Box bound precision lowered by casting to float32\u001b[0m\n",
            "  warnings.warn(colorize('%s: %s'%('WARN', msg % args), 'yellow'))\n"
          ],
          "name": "stderr"
        },
        {
          "output_type": "execute_result",
          "data": {
            "text/plain": [
              "[1]"
            ]
          },
          "metadata": {
            "tags": []
          },
          "execution_count": 16
        }
      ]
    },
    {
      "cell_type": "markdown",
      "metadata": {
        "id": "mhEITUcKK455",
        "colab_type": "text"
      },
      "source": [
        "In Cartpole, a pole is attached by an un-actuated joint to a cart, which moves along a frictionless track. The pole starts upright, and the goal is to prevent it from falling over. The system is controlled by applying a force of +1 or -1 to the cart. A reward of +1 is provided for every timestep that the pole remains upright. The episode ends when the pole is more than 15 degrees from vertical, or the cart moves more than 2.4 units from the center of the track. A visual summary of the cartpole environment is depicted below:\n",
        "\n",
        "<img width=\"400px\" src=\"https://danielpiedrahita.files.wordpress.com/2017/02/cart-pole.png\"></img>\n",
        "\n",
        "Given this setup for the environment and the objective of the game, we can think about: 1) what observations help define the environment's state; 2) what actions the agent can take. \n",
        "\n",
        "First, let's consider the observation space. In this Cartpole environment our observations are:\n",
        "\n",
        "1. Cart position\n",
        "2. Cart velocity\n",
        "3. Pole angle\n",
        "4. Pole rotation rate\n",
        "\n",
        "We can confirm the size of the space by querying the environment's observation space:\n"
      ]
    },
    {
      "cell_type": "code",
      "metadata": {
        "id": "UVJaEcbdIX82",
        "colab_type": "code",
        "outputId": "cd3dbdc1-2885-4799-9adb-26a57f76e776",
        "colab": {
          "base_uri": "https://localhost:8080/",
          "height": 34
        }
      },
      "source": [
        "n_observations = env.observation_space\n",
        "print(\"Environment has observation space =\", n_observations)"
      ],
      "execution_count": 17,
      "outputs": [
        {
          "output_type": "stream",
          "text": [
            "Environment has observation space = Box(4,)\n"
          ],
          "name": "stdout"
        }
      ]
    },
    {
      "cell_type": "markdown",
      "metadata": {
        "id": "ZibGgjrALgPM",
        "colab_type": "text"
      },
      "source": [
        "Second, we consider the action space. At every time step, the agent can move either right or left. Again we can confirm the size of the action space by querying the environment:"
      ]
    },
    {
      "cell_type": "code",
      "metadata": {
        "id": "qc9SIPxBIXrm",
        "colab_type": "code",
        "outputId": "5097aa89-9c03-41ba-d5a2-d954f4c79da9",
        "colab": {
          "base_uri": "https://localhost:8080/",
          "height": 34
        }
      },
      "source": [
        "n_actions = env.action_space.n\n",
        "print(\"Number of possible actions that the agent can choose from =\", n_actions)"
      ],
      "execution_count": 18,
      "outputs": [
        {
          "output_type": "stream",
          "text": [
            "Number of possible actions that the agent can choose from = 2\n"
          ],
          "name": "stdout"
        }
      ]
    },
    {
      "cell_type": "markdown",
      "metadata": {
        "id": "pPfHME8aRKkb",
        "colab_type": "text"
      },
      "source": [
        "### Cartpole agent\n",
        "\n",
        "Now that we have instantiated the environment and understood the dimensionality of the observation and action spaces, we are ready to define our agent. In deep reinforcement learning, a deep neural network defines the agent. This network will take as input an observation of the environment and output the probability of taking each of the possible actions. Since Cartpole is defined by a low-dimensional observation space, a simple feed-forward neural network should work well for our agent. We will define this using the `Sequential` API.\n"
      ]
    },
    {
      "cell_type": "code",
      "metadata": {
        "id": "W-o_XK4oQ4eu",
        "colab_type": "code",
        "colab": {}
      },
      "source": [
        "### Define the Cartpole agent ###\n",
        "\n",
        "# Defines a feed-forward neural network\n",
        "def create_cartpole_model():\n",
        "  model = tf.keras.models.Sequential([\n",
        "      # First Dense layer\n",
        "      tf.keras.layers.Dense(units=32, activation='relu'),\n",
        "\n",
        "      # TODO: Define the last Dense layer, which will provide the network's output.\n",
        "      # Think about the space the agent needs to act in!\n",
        "      tf.keras.layers.Dense(units=n_actions, activation=None)\n",
        "  ])\n",
        "  return model\n",
        "\n",
        "cartpole_model = create_cartpole_model()"
      ],
      "execution_count": 0,
      "outputs": []
    },
    {
      "cell_type": "markdown",
      "metadata": {
        "id": "d5D5NSIYS2IW",
        "colab_type": "text"
      },
      "source": [
        "Now that we have defined the core network architecture, we will define an *action function* that executes a forward pass through the network, given a set of observations, and samples from the output. This sampling from the output probabilities will be used to select the next action for the agent. \n",
        "\n",
        "**Critically, this action function is totally general -- we will use this function for both Cartpole and Pong, and it is applicable to other RL tasks, as well!**"
      ]
    },
    {
      "cell_type": "code",
      "metadata": {
        "id": "E_vVZRr8Q4R_",
        "colab_type": "code",
        "colab": {}
      },
      "source": [
        "### Define the agent's action function ###\n",
        "\n",
        "# Function that takes observations as input, executes a forward pass through model, \n",
        "#   and outputs a sampled action.\n",
        "# Arguments:\n",
        "#   model: the network that defines our agent\n",
        "#   observation: observation which is fed as input to the model\n",
        "# Returns:\n",
        "#   action: choice of agent action\n",
        "def choose_action(model, observation):\n",
        "  # add batch dimension to the observation\n",
        "  observation = np.expand_dims(observation, axis=0)\n",
        "\n",
        "  '''TODO: feed the observations through the model to predict the log probabilities of each possible action.'''\n",
        "  logits = model.predict(observation)\n",
        "  \n",
        "  # pass the log probabilities through a softmax to compute true probabilities\n",
        "  prob_weights = tf.nn.softmax(logits).numpy()\n",
        "  '''TODO: randomly sample from the prob_weights to pick an action.\n",
        "  Hint: carefully consider the dimensionality of the input probabilities (vector) and the output action (scalar)'''\n",
        "  action = np.random.choice(n_actions, size=1, p=prob_weights.flatten())[0]\n",
        "\n",
        "  return action"
      ],
      "execution_count": 0,
      "outputs": []
    },
    {
      "cell_type": "code",
      "metadata": {
        "id": "rvlJOImR8uGE",
        "colab_type": "code",
        "outputId": "43f612e2-fb95-433e-f6c1-41276a7f7a74",
        "colab": {
          "base_uri": "https://localhost:8080/",
          "height": 34
        }
      },
      "source": [
        "observation = env.reset()\n",
        "action = choose_action(cartpole_model, observation)\n",
        "print(\"Random action from first observation: \", action)"
      ],
      "execution_count": 21,
      "outputs": [
        {
          "output_type": "stream",
          "text": [
            "Random action from first observation:  0\n"
          ],
          "name": "stdout"
        }
      ]
    },
    {
      "cell_type": "markdown",
      "metadata": {
        "id": "_tR9uAWcTnkr",
        "colab_type": "text"
      },
      "source": [
        "## 3.2 Define the agent's memory\n",
        "\n",
        "Now that we have instantiated the environment and defined the agent network architecture and action function, we are ready to move on to the next step in our RL workflow:\n",
        "1. **Initialize our environment and our agent**: here we will describe the different observations and actions the agent can make in the environemnt.\n",
        "2. **Define our agent's memory**: this will enable the agent to remember its past actions, observations, and rewards.\n",
        "3. **Define the learning algorithm**: this will be used to reinforce the agent's good behaviors and discourage bad behaviors.\n",
        "\n",
        "In reinforcement learning, training occurs alongside the agent's acting in the environment; an *episode* refers to a sequence of actions that ends in some terminal state, such as the pole falling down or the cart crashing. The agent will need to remember all of its observations and actions, such that once an episode ends, it can learn to \"reinforce\" the good actions and punish the undesirable actions via training. Our first step is to define a simple memory buffer that contains the agent's observations, actions, and received rewards from a given episode. \n",
        "\n",
        "**Once again, note the modularity of this memory buffer -- it can and will be applied to other RL tasks as well!**"
      ]
    },
    {
      "cell_type": "code",
      "metadata": {
        "id": "8MM6JwXVQ4JG",
        "colab_type": "code",
        "colab": {}
      },
      "source": [
        "### Agent Memory ###\n",
        "\n",
        "class Memory:\n",
        "  def __init__(self): \n",
        "      self.clear()\n",
        "\n",
        "  # Resets/restarts the memory buffer\n",
        "  def clear(self): \n",
        "      self.observations = []\n",
        "      self.actions = []\n",
        "      self.rewards = []\n",
        "\n",
        "  # Add observations, actions, rewards to memory\n",
        "  def add_to_memory(self, new_observation, new_action, new_reward): \n",
        "      self.observations.append(new_observation)\n",
        "      self.actions.append(new_action)\n",
        "      self.rewards.append(new_reward)\n",
        "  \n",
        "  def print(self):\n",
        "      print(f'The memory observations {self.observations}')\n",
        "      print(f'The memory actions {self.actions}')\n",
        "      print(f'The memory rewards {self.rewards}')\n",
        "        \n",
        "memory = Memory()"
      ],
      "execution_count": 0,
      "outputs": []
    },
    {
      "cell_type": "code",
      "metadata": {
        "id": "Mv-a5nD4_HZq",
        "colab_type": "code",
        "outputId": "93b5ac38-7298-4ae6-a53f-7b0506f129cf",
        "colab": {
          "base_uri": "https://localhost:8080/",
          "height": 68
        }
      },
      "source": [
        "observation = env.reset()\n",
        "action = choose_action(cartpole_model, observation)\n",
        "next_observation, reward, done, info = env.step(action)\n",
        "memory.add_to_memory(next_observation, action, reward)\n",
        "memory.print()"
      ],
      "execution_count": 23,
      "outputs": [
        {
          "output_type": "stream",
          "text": [
            "The memory observations [array([ 0.02635582,  0.15089482, -0.04301703, -0.30443059])]\n",
            "The memory actions [1]\n",
            "The memory rewards [1.0]\n"
          ],
          "name": "stdout"
        }
      ]
    },
    {
      "cell_type": "markdown",
      "metadata": {
        "id": "D4YhtPaUVj5m",
        "colab_type": "text"
      },
      "source": [
        "## 3.3 Reward function\n",
        "\n",
        "We're almost ready to begin the learning algorithm for our agent! The next step is to compute the rewards of our agent as it acts in the environment. Since we (and the agent) is uncertain about if and when the game or task will end (i.e., when the pole will fall), it is useful to emphasize getting rewards **now** rather than later in the future -- this is the idea of discounting. This is a similar concept to discounting money in the case of interest. ecall from lecture, we use reward discount to give more preference at getting rewards now rather than later in the future. The idea of discounting rewards is similar to discounting money in the case of interest.\n",
        "\n",
        "To compute the expected cumulative reward, known as the **return**, at a given timestep in a learning episode, we sum the discounted rewards expected at that time step $t$, within a learning episode, and projecting into the future. We define the return (cumulative reward) at a time step $t$, $R_{t}$ as:\n",
        "\n",
        ">$R_{t}=\\sum_{k=0}^\\infty\\gamma^kr_{t+k}$\n",
        "\n",
        "where  $0 < \\gamma < 1$ is the discount factor and $r_{t}$ is the reward at time step $t$, and the index $k$ increments projection into the future within a single learning episode. Intuitively, you can think of this function as depreciating any rewards received at later time steps, which will force the agent prioritize getting rewards now. Since we can't extend episodes to infinity, in practice the computation will be limited to the number of timesteps in an episode -- after that the reward is assumed to be zero.\n",
        "\n",
        "Take note of the form of this sum -- we'll have to be clever about how we implement this function. Specifically, we'll need to initialize an array of zeros, with length of the number of time steps, and fill it with the real discounted reward values as we loop through the rewards from the episode, which will have been saved in the agents memory. What we ultimately care about is which actions are better relative to other actions taken in that episode -- so, we'll normalize our computed rewards, using the mean and standard deviation of the rewards across the learning episode.\n"
      ]
    },
    {
      "cell_type": "code",
      "metadata": {
        "id": "5_Q2OFYtQ32X",
        "colab_type": "code",
        "colab": {}
      },
      "source": [
        "### Reward function ###\n",
        "\n",
        "# Helper function that normalizes an np.array x\n",
        "def normalize(x):\n",
        "  x -= np.mean(x)\n",
        "  x /= np.std(x)\n",
        "  return x.astype(np.float32)\n",
        "\n",
        "# Compute normalized, discounted, cumulative rewards (i.e., return)\n",
        "# Arguments:\n",
        "#   rewards: reward at timesteps in episode\n",
        "#   gamma: discounting factor\n",
        "# Returns:\n",
        "#   normalized discounted reward\n",
        "def discount_rewards(rewards, gamma=0.95): \n",
        "  discounted_rewards = np.zeros_like(rewards)\n",
        "  R = 0\n",
        "  for t in reversed(range(0, len(rewards))):\n",
        "      # update the total discounted reward\n",
        "      R = R * gamma + rewards[t]\n",
        "      discounted_rewards[t] = R\n",
        "\n",
        "  return normalize(discounted_rewards)"
      ],
      "execution_count": 0,
      "outputs": []
    },
    {
      "cell_type": "code",
      "metadata": {
        "id": "g4Mi9-9LKZ1f",
        "colab_type": "code",
        "outputId": "b117b0af-bcbe-4252-8ae3-61ba35f11dcf",
        "colab": {
          "base_uri": "https://localhost:8080/",
          "height": 139
        }
      },
      "source": [
        "observation = env.reset()\n",
        "memory.clear()\n",
        "for i in range(10):\n",
        "  action = choose_action(cartpole_model, observation)\n",
        "  next_observation, reward, done, info = env.step(action)\n",
        "  memory.add_to_memory(next_observation, action, reward)\n",
        "\n",
        "memory.print()\n",
        "\n",
        "discounted_rewards = discount_rewards(memory.rewards)\n",
        "print(\"Rewards: \", memory.rewards)\n",
        "print(\"Discounted rewards: \", discounted_rewards)"
      ],
      "execution_count": 25,
      "outputs": [
        {
          "output_type": "stream",
          "text": [
            "The memory observations [array([ 0.01877362,  0.19048588,  0.04075166, -0.25220616]), array([ 0.02258334, -0.00519357,  0.03570754,  0.05304699]), array([ 0.02247947,  0.18939867,  0.03676848, -0.22815952]), array([ 0.02626744, -0.00622891,  0.03220528,  0.07589102]), array([ 0.02614286,  0.1884169 ,  0.03372311, -0.20645959]), array([ 0.0299112 ,  0.38304079,  0.02959391, -0.48831673]), array([ 0.03757202,  0.18751408,  0.01982758, -0.18645574]), array([ 0.0413223 , -0.00788586,  0.01609846,  0.11241549]), array([ 0.04116458, -0.20323475,  0.01834677,  0.41013359]), array([ 0.03709989, -0.39861193,  0.02654945,  0.7085437 ])]\n",
            "The memory actions [1, 0, 1, 0, 1, 1, 0, 0, 0, 0]\n",
            "The memory rewards [1.0, 1.0, 1.0, 1.0, 1.0, 1.0, 1.0, 1.0, 1.0, 1.0]\n",
            "Rewards:  [1.0, 1.0, 1.0, 1.0, 1.0, 1.0, 1.0, 1.0, 1.0, 1.0]\n",
            "Discounted rewards:  [ 1.4604452   1.1792438   0.88324225  0.5716617   0.24368219 -0.10155941\n",
            " -0.46497163 -0.8475108  -1.2501836  -1.6740497 ]\n"
          ],
          "name": "stdout"
        }
      ]
    },
    {
      "cell_type": "markdown",
      "metadata": {
        "id": "QzbY-mjGYcmt",
        "colab_type": "text"
      },
      "source": [
        "## 3.4 Learning algorithm\n",
        "\n",
        "Now we can start to define the learing algorithm which will be used to reinforce good behaviors of the agent and discourage bad behaviours. In this lab, we will focus on *policy gradient* methods which aim to **maximize** the likelihood of actions that result in large rewards. Equivalently, this means that we want to **minimize** the negative likelihood of these same actions. We achieve this by simply **scaling** the probabilities by their associated rewards -- effectively amplifying the likelihood of actions that resujlt in large rewards.\n",
        "\n",
        "Since the log function is monotonically increasing, this means that minimizing **negative likelihood** is equivalent to minimizing **negative log-likelihood**.  Recall that we can easily compute the negative log-likelihood of a discrete action by evaluting its [softmax cross entropy](https://www.tensorflow.org/api_docs/python/tf/nn/sparse_softmax_cross_entropy_with_logits). Like in supervised learning, we can use stochastic gradient descent methods to achieve the desired minimization. \n",
        "\n",
        "Let's begin by defining the loss function."
      ]
    },
    {
      "cell_type": "code",
      "metadata": {
        "id": "fsgZ3IDCY_Zn",
        "colab_type": "code",
        "colab": {}
      },
      "source": [
        "### Loss function ###\n",
        "\n",
        "# Arguments:\n",
        "#   logits: network's predictions for actions to take\n",
        "#   actions: the actions the agent took in an episode\n",
        "#   rewards: the rewards the agent received in an episode\n",
        "# Returns:\n",
        "#   loss\n",
        "def compute_loss(logits, actions, rewards): \n",
        "  '''TODO: complete the function call to compute the negative log probabilities'''\n",
        "  neg_logprob = tf.nn.sparse_softmax_cross_entropy_with_logits(logits=logits, labels=actions)\n",
        "  \n",
        "  '''TODO: scale the negative log probability by the rewards'''\n",
        "  loss = tf.reduce_mean(neg_logprob * rewards)\n",
        "  return loss"
      ],
      "execution_count": 0,
      "outputs": []
    },
    {
      "cell_type": "code",
      "metadata": {
        "id": "5xPfk_BQMlNh",
        "colab_type": "code",
        "outputId": "67befd14-4d0a-42c6-9439-d6755de47bff",
        "colab": {
          "base_uri": "https://localhost:8080/",
          "height": 275
        }
      },
      "source": [
        "observation = env.reset()\n",
        "memory.clear()\n",
        "for i in range(10):\n",
        "  action = choose_action(cartpole_model, observation)\n",
        "  next_observation, reward, done, info = env.step(action)\n",
        "  memory.add_to_memory(next_observation, action, reward)\n",
        "\n",
        "memory.print()\n",
        "logits = cartpole_model.predict(np.asarray(memory.observations))\n",
        "print(\"Logits: \", logits)\n",
        "loss = compute_loss(logits, memory.actions, memory.rewards)\n",
        "print(\"Tensor loss:\", loss)"
      ],
      "execution_count": 27,
      "outputs": [
        {
          "output_type": "stream",
          "text": [
            "The memory observations [array([-0.03387007, -0.2427815 ,  0.03877906,  0.29609456]), array([-0.0387257 , -0.43843421,  0.04470095,  0.60075116]), array([-0.04749438, -0.24396516,  0.05671597,  0.32247668]), array([-0.05237369, -0.43984696,  0.0631655 ,  0.63249248]), array([-0.06117062, -0.24566046,  0.07581535,  0.36035195]), array([-0.06608383, -0.05169348,  0.08302239,  0.09250563]), array([-0.0671177 , -0.24790121,  0.0848725 ,  0.41018405]), array([-0.07207573, -0.05407862,  0.09307619,  0.14541923]), array([-0.0731573 , -0.25040171,  0.09598457,  0.46595412]), array([-0.07816533, -0.44673953,  0.10530365,  0.78728139])]\n",
            "The memory actions [0, 0, 1, 0, 1, 1, 0, 1, 0, 0]\n",
            "The memory rewards [1.0, 1.0, 1.0, 1.0, 1.0, 1.0, 1.0, 1.0, 1.0, 1.0]\n",
            "Logits:  [[-0.05223529 -0.00836103]\n",
            " [-0.11480041 -0.00259016]\n",
            " [-0.05376846 -0.01268838]\n",
            " [-0.11739015 -0.00680276]\n",
            " [-0.05796053 -0.01632965]\n",
            " [ 0.00488008 -0.02969304]\n",
            " [-0.06932782 -0.01331915]\n",
            " [-0.00874851 -0.02529272]\n",
            " [-0.08041281 -0.01231537]\n",
            " [-0.13874228 -0.00898984]]\n",
            "Tensor loss: tf.Tensor(0.7182967, shape=(), dtype=float32)\n"
          ],
          "name": "stdout"
        }
      ]
    },
    {
      "cell_type": "markdown",
      "metadata": {
        "id": "Rr5vQ9fqbPpp",
        "colab_type": "text"
      },
      "source": [
        "Now let's use the loss function to define a training step of our learning algorithm:"
      ]
    },
    {
      "cell_type": "code",
      "metadata": {
        "id": "_50ada7nbZ7L",
        "colab_type": "code",
        "colab": {}
      },
      "source": [
        "### Training step (forward and backpropagation) ###\n",
        "\n",
        "def train_step(model, optimizer, observations, actions, discounted_rewards):\n",
        "  with tf.GradientTape() as tape:\n",
        "      # Forward propagate through the agent network\n",
        "      logits = model(observations)\n",
        "\n",
        "      '''TODO: call the compute_loss function to compute the loss'''\n",
        "      loss = compute_loss(logits, actions, discounted_rewards)\n",
        "\n",
        "  '''TODO: run backpropagation to minimize the loss using the tape.gradient method.\n",
        "      Use `model.trainable_variables`'''\n",
        "  grads = tape.gradient(loss, model.trainable_variables)\n",
        "  optimizer.apply_gradients(zip(grads, model.trainable_variables))\n"
      ],
      "execution_count": 0,
      "outputs": []
    },
    {
      "cell_type": "code",
      "metadata": {
        "id": "Ljr-R1LGPhNv",
        "colab_type": "code",
        "outputId": "e5ba972f-c35a-499f-fff9-3545eb9ade82",
        "colab": {
          "base_uri": "https://localhost:8080/",
          "height": 190
        }
      },
      "source": [
        "learning_rate = 1e-3\n",
        "optimizer = tf.keras.optimizers.Adam(learning_rate)\n",
        "\n",
        "observation = env.reset()\n",
        "memory.clear()\n",
        "for i in range(10):\n",
        "  action = choose_action(cartpole_model, observation)\n",
        "  next_observation, reward, done, info = env.step(action)\n",
        "  memory.add_to_memory(next_observation, action, reward)\n",
        "\n",
        "memory.print()\n",
        "train_step(cartpole_model, optimizer, np.asarray(memory.observations), np.asarray(memory.actions), discount_rewards(memory.rewards))\n"
      ],
      "execution_count": 29,
      "outputs": [
        {
          "output_type": "stream",
          "text": [
            "The memory observations [array([-0.00283339,  0.1955087 ,  0.03303272, -0.24966293]), array([ 1.07678605e-03, -6.90285825e-05,  2.80394588e-02,  5.32534758e-02]), array([ 0.00107541, -0.19558157,  0.02910453,  0.35464954]), array([-0.00283623, -0.00088528,  0.03619752,  0.0712843 ]), array([-0.00285393, -0.19650698,  0.03762321,  0.37516438]), array([-0.00678407, -0.00193907,  0.04512649,  0.09457766]), array([-0.00682285,  0.19250802,  0.04701805, -0.18353336]), array([-0.00297269, -0.00325406,  0.04334738,  0.12360346]), array([-0.00303777,  0.19122093,  0.04581945, -0.15509487]), array([ 0.00078665, -0.00452609,  0.04271755,  0.15168371])]\n",
            "The memory actions [1, 0, 0, 1, 0, 1, 1, 0, 1, 0]\n",
            "The memory rewards [1.0, 1.0, 1.0, 1.0, 1.0, 1.0, 1.0, 1.0, 1.0, 1.0]\n",
            "WARNING:tensorflow:Layer dense_2 is casting an input tensor from dtype float64 to the layer's dtype of float32, which is new behavior in TensorFlow 2.  The layer has dtype float32 because it's dtype defaults to floatx.\n",
            "\n",
            "If you intended to run this layer in float32, you can safely ignore this warning. If in doubt, this warning is likely only an issue if you are porting a TensorFlow 1.X model to TensorFlow 2.\n",
            "\n",
            "To change all layers to have dtype float64 by default, call `tf.keras.backend.set_floatx('float64')`. To change just this layer, pass dtype='float64' to the layer constructor. If you are the author of this layer, you can disable autocasting by passing autocast=False to the base Layer constructor.\n",
            "\n"
          ],
          "name": "stdout"
        }
      ]
    },
    {
      "cell_type": "markdown",
      "metadata": {
        "id": "XsjKXh6BcgjR",
        "colab_type": "text"
      },
      "source": [
        "## 3.5 Run cartpole!\n",
        "\n",
        "Having had no prior knowledge of the environment, the agent will begin to learn how to balance the pole on the cart based only on the feedback received from the environment! Having defined how our agent can move, how it takes in new observations, and how it updates its state, we'll see how it gradually learns a policy of actions to optimize balancing the pole as long as possible. To do this, we'll track how the rewards evolve as a function of training -- how should the rewards change as training progresses?"
      ]
    },
    {
      "cell_type": "code",
      "metadata": {
        "id": "XmOzc2rrcn8Q",
        "colab_type": "code",
        "colab": {
          "base_uri": "https://localhost:8080/",
          "height": 541
        },
        "outputId": "c4c20356-8baa-4e66-86a5-624e96e5a237"
      },
      "source": [
        "### Cartpole training! ###\n",
        "\n",
        "# Learning rate and optimizer\n",
        "learning_rate = 1e-3\n",
        "optimizer = tf.keras.optimizers.Adam(learning_rate)\n",
        "\n",
        "# instantiate cartpole agent\n",
        "cartpole_model = create_cartpole_model()\n",
        "\n",
        "# to track our progress\n",
        "smoothed_reward = mdl.util.LossHistory(smoothing_factor=0.9)\n",
        "plotter = mdl.util.PeriodicPlotter(sec=2, xlabel='Iterations', ylabel='Rewards')\n",
        "\n",
        "if hasattr(tqdm, '_instances'): tqdm._instances.clear() # clear if it exists\n",
        "for i_episode in range(500):\n",
        "\n",
        "  plotter.plot(smoothed_reward.get())\n",
        "\n",
        "  # Restart the environment\n",
        "  observation = env.reset()\n",
        "  memory.clear()\n",
        "\n",
        "  while True:\n",
        "      # using our observation, choose an action and take it in the environment\n",
        "      action = choose_action(cartpole_model, observation)\n",
        "      next_observation, reward, done, info = env.step(action)\n",
        "      # add to memory\n",
        "      memory.add_to_memory(observation, action, reward)\n",
        "      \n",
        "      # is the episode over? did you crash or do so well that you're done?\n",
        "      if done:\n",
        "          # determine total reward and keep a record of this\n",
        "          total_reward = sum(memory.rewards)\n",
        "          smoothed_reward.append(total_reward)\n",
        "          \n",
        "          # initiate training - remember we don't know anything about how the \n",
        "          #   agent is doing until it has crashed!\n",
        "          train_step(cartpole_model, optimizer, \n",
        "                     observations=np.vstack(memory.observations),\n",
        "                     actions=np.array(memory.actions),\n",
        "                     discounted_rewards = discount_rewards(memory.rewards))\n",
        "          \n",
        "          # reset the memory\n",
        "          memory.clear()\n",
        "          break\n",
        "      # update our observatons\n",
        "      observation = next_observation"
      ],
      "execution_count": 30,
      "outputs": [
        {
          "output_type": "display_data",
          "data": {
            "image/png": "[encoded data removed]",
            "text/plain": [
              "<Figure size 432x288 with 1 Axes>"
            ]
          },
          "metadata": {
            "tags": []
          }
        },
        {
          "output_type": "display_data",
          "data": {
            "image/png": "[encoded data removed]",
            "text/plain": [
              "<Figure size 432x288 with 1 Axes>"
            ]
          },
          "metadata": {
            "tags": []
          }
        }
      ]
    },
    {
      "cell_type": "markdown",
      "metadata": {
        "id": "mkcUtGF1VE-K",
        "colab_type": "text"
      },
      "source": [
        "To get a sense of how our agent did, we can save a video of the trained model working on balancing the pole. Realize that this is a brand new environment that the agent has not seen before!\n",
        "\n",
        "Let's display the saved video to watch how our agent did!\n"
      ]
    },
    {
      "cell_type": "code",
      "metadata": {
        "id": "PAYBkv6Zbk0J",
        "colab_type": "code",
        "colab": {
          "base_uri": "https://localhost:8080/",
          "height": 472
        },
        "outputId": "d369b702-503c-42c2-fd9a-b22747131b33"
      },
      "source": [
        "saved_cartpole = mdl.lab3.save_video_of_model(cartpole_model, \"CartPole-v0\")\n",
        "mdl.lab3.play_video(saved_cartpole)"
      ],
      "execution_count": 31,
      "outputs": [
        {
          "output_type": "stream",
          "text": [
            "/usr/local/lib/python3.6/dist-packages/gym/logger.py:30: UserWarning: \u001b[33mWARN: Box bound precision lowered by casting to float32\u001b[0m\n",
            "  warnings.warn(colorize('%s: %s'%('WARN', msg % args), 'yellow'))\n"
          ],
          "name": "stderr"
        },
        {
          "output_type": "stream",
          "text": [
            "Successfully saved 200 frames into CartPole-v0.mp4!\n"
          ],
          "name": "stdout"
        },
        {
          "output_type": "execute_result",
          "data": {
            "text/html": [
              "\n",
              "        <video controls>\n",
              "            <source src=\"data:video/mp4;base64,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\" type=\"video/mp4\" />\n",
              "        </video>"
            ],
            "text/plain": [
              "<IPython.core.display.HTML object>"
            ]
          },
          "metadata": {
            "tags": []
          },
          "execution_count": 31
        }
      ]
    },
    {
      "cell_type": "markdown",
      "metadata": {
        "id": "CSbVNDpaVb3_",
        "colab_type": "text"
      },
      "source": [
        "How does the agent perform? Could you train it for shorter amounts of time and still perform well? Do you think that training longer would help even more? "
      ]
    },
    {
      "cell_type": "markdown",
      "metadata": {
        "id": "Eu6Mqxc720ST",
        "colab_type": "text"
      },
      "source": [
        "#Part 2: Pong\n",
        "\n",
        "In Cartpole, we dealt with an environment that was static -- in other words, it didn't change over time. What happens if our environment is dynamic and unpredictable? Well that's exactly the case in [Pong](https://en.wikipedia.org/wiki/Pong), since part of the environment is the opposing player. We don't know how our opponent will act or react to our actions, so the complexity of our problem increases. It also becomes much more interesting, since we can compete to beat our opponent. RL provides a powerful framework for training AI systems with the ability to handle and interact with dynamic, unpredictable environments. In this part of the lab, we'll use the tools and workflow we explored in Part 1 to build an RL agent capable of playing the game of Pong.\n"
      ]
    },
    {
      "cell_type": "markdown",
      "metadata": {
        "id": "srZ4YE29isuA",
        "colab_type": "text"
      },
      "source": [
        "## 3.6 Define and inspect the Pong environment\n",
        "\n",
        "As with Cartpole, we'll instantiate the Pong environment in the OpenAI gym, using a seed of 1."
      ]
    },
    {
      "cell_type": "code",
      "metadata": {
        "id": "lbYHLr66i15n",
        "colab_type": "code",
        "colab": {}
      },
      "source": [
        "env = gym.make(\"Pong-v0\", frameskip=5)\n",
        "env.seed(1); # for reproducibility"
      ],
      "execution_count": 0,
      "outputs": []
    },
    {
      "cell_type": "markdown",
      "metadata": {
        "id": "52uZ2Xhyi-MW",
        "colab_type": "text"
      },
      "source": [
        "Let's next consider the observation space for the Pong environment. Instead of four physical descriptors of the cart-pole setup, in the case of Pong our observations are the individual video frames (i.e., images) that depict the state of the board. Thus, the observations are 210x160 RGB images (arrays of shape (210,160,3)).\n",
        "\n",
        "We can again confirm the size of the observation space by query:"
      ]
    },
    {
      "cell_type": "code",
      "metadata": {
        "id": "0yX4GWvxjnHS",
        "colab_type": "code",
        "colab": {
          "base_uri": "https://localhost:8080/",
          "height": 34
        },
        "outputId": "bcec8bbf-6f48-438e-c8e0-37e9d3d14127"
      },
      "source": [
        "print(\"Environment has observation space =\", env.observation_space)"
      ],
      "execution_count": 33,
      "outputs": [
        {
          "output_type": "stream",
          "text": [
            "Environment has observation space = Box(210, 160, 3)\n"
          ],
          "name": "stdout"
        }
      ]
    },
    {
      "cell_type": "markdown",
      "metadata": {
        "id": "uuEC2TdSjx9D",
        "colab_type": "text"
      },
      "source": [
        "In Pong, at every time step, the agent (which controls the paddle) has six actions to choose from: no-op (no operation), move right, move left, fire, fire right, and fire left. Let's confirm the size of the action space by querying the environment:"
      ]
    },
    {
      "cell_type": "code",
      "metadata": {
        "id": "Iuy9oPc1kag3",
        "colab_type": "code",
        "colab": {
          "base_uri": "https://localhost:8080/",
          "height": 34
        },
        "outputId": "0988db34-fa5d-4329-dbe7-d3b05974e237"
      },
      "source": [
        "n_actions = env.action_space.n\n",
        "print(\"Number of possible actions that the agent can choose from =\", n_actions)"
      ],
      "execution_count": 34,
      "outputs": [
        {
          "output_type": "stream",
          "text": [
            "Number of possible actions that the agent can choose from = 6\n"
          ],
          "name": "stdout"
        }
      ]
    },
    {
      "cell_type": "markdown",
      "metadata": {
        "id": "9-fghDRigUE5",
        "colab_type": "text"
      },
      "source": [
        "## 3.7 Define the Pong agent\n",
        "\n",
        "As before, we'll use a neural network to define our agent. What network architecture do you think would be especially well suited to this game? Since our observations are now in the form of images, we'll add convolutional layers to the network to increase the learning capacity of our network."
      ]
    },
    {
      "cell_type": "code",
      "metadata": {
        "id": "IJiqbFYpgYRH",
        "colab_type": "code",
        "colab": {}
      },
      "source": [
        "### Define the Pong agent ###\n",
        "\n",
        "# Functionally define layers for convenience\n",
        "# All convolutional layers will have ReLu activation\n",
        "Conv2D = functools.partial(tf.keras.layers.Conv2D, padding='same', activation='relu')\n",
        "Flatten = tf.keras.layers.Flatten\n",
        "Dense = tf.keras.layers.Dense\n",
        "\n",
        "# Defines a CNN for the Pong agent\n",
        "def create_pong_model():\n",
        "  model = tf.keras.models.Sequential([\n",
        "    # Convolutional layers\n",
        "    # First, 16 7x7 filters with 4x4 stride\n",
        "    Conv2D(filters=16, kernel_size=7, strides=4),\n",
        "\n",
        "    # TODO: define convolutional layers with 32 5x5 filters and 2x2 stride\n",
        "    Conv2D(filters=32, kernel_size=5, strides=2),\n",
        "\n",
        "    # TODO: define convolutional layers with 48 3x3 filters and 2x2 stride\n",
        "    Conv2D(filters=48, kernel_size=3, strides=2),\n",
        "\n",
        "    Flatten(),\n",
        "    \n",
        "    # Fully connected layer and output\n",
        "    Dense(units=64, activation='relu'),\n",
        "    # TODO: define the output dimension of the last Dense layer. \n",
        "    # Pay attention to the space the agent needs to act in\n",
        "    Dense(units=n_actions, activation=None)\n",
        "  \n",
        "  ])\n",
        "  return model\n",
        "\n",
        "pong_model = create_pong_model()"
      ],
      "execution_count": 0,
      "outputs": []
    },
    {
      "cell_type": "markdown",
      "metadata": {
        "id": "yaeZ067olFiJ",
        "colab_type": "text"
      },
      "source": [
        "Since we've already defined the action function, `choose_action(model, observation)`, we don't need to define it again. Instead, we'll be able to reuse it later on by passing in our new model we've just created, `pong_model`. This is awesome because our action function provides a modular and generalizable method for all sorts of RL agents!"
      ]
    },
    {
      "cell_type": "markdown",
      "metadata": {
        "id": "l0RvqOVkmc2r",
        "colab_type": "text"
      },
      "source": [
        "## 3.8 Pong-specific functions\n",
        "\n",
        "In Part 1 (Cartpole), we implemented some key functions and classes to build and train our RL agent -- `choose_action(model, observation)` and the `Memory` class, for example. However, in getting ready to apply these to a new game like Pong, we might need to make some slight modifications. \n",
        "\n",
        "Namely, we need to think about what happens when a game ends. In Pong, we know a game has ended if the reward is +1 (we won!) or -1 (we lost unfortunately). Otherwise, we expect the reward at a timestep to be zero -- the players (or agents) are just playing eachother. So, after a game ends, we will need to reset the reward to zero when a game ends. This will result in a modified reward function."
      ]
    },
    {
      "cell_type": "code",
      "metadata": {
        "id": "iEZG2o50luLu",
        "colab_type": "code",
        "colab": {}
      },
      "source": [
        "### Pong reward function ###\n",
        "\n",
        "# Compute normalized, discounted rewards for Pong (i.e., return)\n",
        "# Arguments:\n",
        "#   rewards: reward at timesteps in episode\n",
        "#   gamma: discounting factor. Note increase to 0.99 -- rate of depreciation will be slower.\n",
        "# Returns:\n",
        "#   normalized discounted reward\n",
        "def discount_rewards(rewards, gamma=0.99): \n",
        "  discounted_rewards = np.zeros_like(rewards)\n",
        "  R = 0\n",
        "  for t in reversed(range(0, len(rewards))):\n",
        "      # NEW: Reset the sum if the reward is not 0 (the game has ended!)\n",
        "      if rewards[t] != 0:\n",
        "        R = 0\n",
        "      # update the total discounted reward as before\n",
        "      R = R * gamma + rewards[t]\n",
        "      discounted_rewards[t] = R\n",
        "      \n",
        "  return normalize(discounted_rewards)"
      ],
      "execution_count": 0,
      "outputs": []
    },
    {
      "cell_type": "markdown",
      "metadata": {
        "id": "HopLpb4IoOqA",
        "colab_type": "text"
      },
      "source": [
        "Additionally, we have to consider the nature of the observations in the Pong environment, and how they will be fed into our network. Our observations in this case are images. Before we input an image into our network, we'll do a bit of pre-processing to crop and scale, clean up the background colors to a single color, and set the important game elements to a single color. Let's use this function to visualize what an observation might look like before and after pre-processing."
      ]
    },
    {
      "cell_type": "code",
      "metadata": {
        "id": "no5IIYtFm8pI",
        "colab_type": "code",
        "colab": {
          "base_uri": "https://localhost:8080/",
          "height": 227
        },
        "outputId": "6e3491ac-1a25-43ea-a5b7-fd6d20685522"
      },
      "source": [
        "observation = env.reset()\n",
        "for i in range(30):\n",
        "  observation, _,_,_ = env.step(0)\n",
        "observation_pp = mdl.lab3.preprocess_pong(observation)\n",
        "\n",
        "f = plt.figure(figsize=(10,3))\n",
        "ax = f.add_subplot(121)\n",
        "ax2 = f.add_subplot(122)\n",
        "ax.imshow(observation); ax.grid(False);\n",
        "ax2.imshow(np.squeeze(observation_pp)); ax2.grid(False); plt.title('Preprocessed Observation');"
      ],
      "execution_count": 38,
      "outputs": [
        {
          "output_type": "display_data",
          "data": {
            "image/png": "[encoded data removed]",
            "text/plain": [
              "<Figure size 720x216 with 2 Axes>"
            ]
          },
          "metadata": {
            "tags": []
          }
        }
      ]
    },
    {
      "cell_type": "markdown",
      "metadata": {
        "id": "bYwIWC-Cz8F2",
        "colab_type": "text"
      },
      "source": [
        "What do you notice? How might these changes be important for training our RL algorithm?"
      ]
    },
    {
      "cell_type": "markdown",
      "metadata": {
        "id": "mRqcaDQ1pm3x",
        "colab_type": "text"
      },
      "source": [
        "## 3.9 Training Pong\n",
        "\n",
        "We're now all set up to start training our RL algorithm and agent for the game of Pong! We've already defined our loss function with `compute_loss`, which employs policy gradient learning, as well as our backpropagation step with `train_step` which is beautiful! We will use these functions to execute training the Pong agent. Let's walk through the training block.\n",
        "\n",
        "In Pong, rather than feeding our network one image at a time, it can actually improve performance to input the difference between two consecutive observations, which really gives us information about the movement between frames -- how the game is changing. We'll first pre-process the raw observation, `x`, and then we'll compute the difference with the image frame we saw one timestep before. \n",
        "\n",
        "This observation change will be forward propagated through our Pong agent, the CNN network model, which will then predict the next action to take based on this observation. The raw reward will be computed, and the observation, action, and reward will be recorded into memory. This will continue until a training episode, i.e., a game, ends.\n",
        "\n",
        "Then, we will compute the discounted rewards, and use this information to execute a training step. Memory will be cleared, and we will do it all over again!\n",
        "\n",
        "Let's run the code block to train our Pong agent. Note that completing training will take quite a bit of time (estimated at least a couple of hours). We will again visualize the evolution of the total reward as a function of training to get a sense of how the agent is learning."
      ]
    },
    {
      "cell_type": "code",
      "metadata": {
        "id": "xCwyQQrPnkZG",
        "colab_type": "code",
        "colab": {
          "base_uri": "https://localhost:8080/",
          "height": 541
        },
        "outputId": "9cea4b00-9040-4813-ee51-aeddac4ecab3"
      },
      "source": [
        "### Training Pong ###\n",
        "\n",
        "# Hyperparameters\n",
        "learning_rate=1e-4\n",
        "MAX_ITERS = 10 # increase the maximum number of episodes, since Pong is more complex!\n",
        "\n",
        "# Model and optimizer\n",
        "pong_model = create_pong_model()\n",
        "optimizer = tf.keras.optimizers.Adam(learning_rate)\n",
        "\n",
        "# plotting\n",
        "smoothed_reward = mdl.util.LossHistory(smoothing_factor=0.9)\n",
        "plotter = mdl.util.PeriodicPlotter(sec=5, xlabel='Iterations', ylabel='Rewards')\n",
        "memory = Memory()\n",
        "\n",
        "for i_episode in range(MAX_ITERS):\n",
        "\n",
        "  plotter.plot(smoothed_reward.get())\n",
        "\n",
        "  # Restart the environment\n",
        "  observation = env.reset()\n",
        "  previous_frame = mdl.lab3.preprocess_pong(observation)\n",
        "\n",
        "  while True:\n",
        "      # Pre-process image \n",
        "      current_frame = mdl.lab3.preprocess_pong(observation)\n",
        "      \n",
        "      '''TODO: determine the observation change\n",
        "      Hint: this is the difference between the past two frames'''\n",
        "      obs_change = current_frame - previous_frame\n",
        "      \n",
        "      '''TODO: choose an action for the pong model, using the frame difference, and evaluate'''\n",
        "      action = choose_action(pong_model, obs_change)\n",
        "      # Take the chosen action\n",
        "      next_observation, reward, done, info = env.step(action)\n",
        "\n",
        "      '''TODO: save the observed frame difference, the action that was taken, and the resulting reward!'''\n",
        "      memory.add_to_memory(obs_change, action, reward)\n",
        "      \n",
        "      # is the episode over? did you crash or do so well that you're done?\n",
        "      if done:\n",
        "          # determine total reward and keep a record of this\n",
        "          total_reward = sum(memory.rewards)\n",
        "          smoothed_reward.append( total_reward )\n",
        "\n",
        "          # begin training\n",
        "          train_step(pong_model, \n",
        "                     optimizer, \n",
        "                     observations = np.stack(memory.observations, 0), \n",
        "                     actions = np.array(memory.actions),\n",
        "                     discounted_rewards = discount_rewards(memory.rewards))\n",
        "          \n",
        "          memory.clear()\n",
        "          break\n",
        "\n",
        "      observation = next_observation\n",
        "      previous_frame = current_frame"
      ],
      "execution_count": 41,
      "outputs": [
        {
          "output_type": "display_data",
          "data": {
            "image/png": "[encoded data removed]",
            "text/plain": [
              "<Figure size 432x288 with 1 Axes>"
            ]
          },
          "metadata": {
            "tags": []
          }
        },
        {
          "output_type": "display_data",
          "data": {
            "image/png": "[encoded data removed]",
            "text/plain": [
              "<Figure size 432x288 with 1 Axes>"
            ]
          },
          "metadata": {
            "tags": []
          }
        }
      ]
    },
    {
      "cell_type": "markdown",
      "metadata": {
        "id": "8LiEY5Y_ts-Z",
        "colab_type": "text"
      },
      "source": [
        "Finally we can put our trained agent to the test! It will play in a newly instantiated Pong environment against the \"computer\", a base AI system for Pong. Your agent plays as the green paddle. Let's watch the match instant replay!"
      ]
    },
    {
      "cell_type": "code",
      "metadata": {
        "id": "TvHXbkL0tR6M",
        "colab_type": "code",
        "colab": {
          "base_uri": "https://localhost:8080/",
          "height": 248
        },
        "outputId": "0f0d1cd2-a337-46e3-8f8e-a38911c98a83"
      },
      "source": [
        "saved_pong = mdl.lab3.save_video_of_model(\n",
        "    pong_model, \"Pong-v0\", obs_diff=True, \n",
        "    pp_fn=mdl.lab3.preprocess_pong)\n",
        "mdl.lab3.play_video(saved_pong)"
      ],
      "execution_count": 42,
      "outputs": [
        {
          "output_type": "stream",
          "text": [
            "Successfully saved 1174 frames into Pong-v0.mp4!\n"
          ],
          "name": "stdout"
        },
        {
          "output_type": "execute_result",
          "data": {
            "text/html": [
              "\n",
              "        <video controls>\n",
              "            <source src=\"data:video/mp4;base64,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\" type=\"video/mp4\" />\n",
              "        </video>"
            ],
            "text/plain": [
              "<IPython.core.display.HTML object>"
            ]
          },
          "metadata": {
            "tags": []
          },
          "execution_count": 42
        }
      ]
    },
    {
      "cell_type": "markdown",
      "metadata": {
        "id": "TIlwIgBP3Js6",
        "colab_type": "text"
      },
      "source": [
        "## 3.10 Conclusion\n",
        "\n",
        "That's it! Congratulations on training two RL agents and putting them to the test! We encourage you to consider the following:\n",
        "\n",
        "*   How does the agent perform?\n",
        "*   Could you train it for shorter amounts of time  and still perform well?\n",
        "*   Do you think that training longer would help even more? \n",
        "* How does the complexity of Pong relative to Cartpole alter the rate at which the agent learns and its performance? \n",
        "* What are some things you could change about the agent or the learning process to potentially improve performance?\n",
        "\n",
        "If you want to go further, try to optimize your model to achieve the best performance! **[Email us](mailto:introtodeeplearning-staff@mit.edu) a copy of your notebook with the Pong training executed AND a saved video of your Pong agent competing! We'll give out prizes to the best performers!**"
      ]
    }
  ]
}